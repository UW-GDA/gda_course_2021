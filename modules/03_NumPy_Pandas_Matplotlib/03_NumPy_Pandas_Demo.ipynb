{
 "cells": [
  {
   "cell_type": "markdown",
   "metadata": {},
   "source": [
    "# NumPy, Pandas, Matplotlib Demo\n",
    "UW Geospatial Data Analysis  \n",
    "CEE498/CEWA599  \n",
    "David Shean"
   ]
  },
  {
   "cell_type": "markdown",
   "metadata": {},
   "source": [
    "## NumPy\n",
    "> NumPy is the fundamental package for scientific computing in Python. It is a Python library that provides a multidimensional array object, various derived objects (such as masked arrays and matrices), and an assortment of routines for fast operations on arrays, including mathematical, logical, shape manipulation, sorting, selecting, I/O, discrete Fourier transforms, basic linear algebra, basic statistical operations, random simulation and much more."
   ]
  },
  {
   "cell_type": "markdown",
   "metadata": {},
   "source": [
    "## Matplotlib\n",
    ">Matplotlib is a comprehensive library for creating static, animated, and interactive visualizations in Python.\n",
    "\n",
    ">Matplotlib is a Python 2D plotting library which produces publication quality figures in a variety of hardcopy formats and interactive environments across platforms. Matplotlib can be used in Python scripts, the Python and IPython shells, the Jupyter notebook, web application servers, and four graphical user interface toolkits.\n",
    "\n",
    ">Matplotlib tries to make easy things easy and hard things possible. You can generate plots, histograms, power spectra, bar charts, errorcharts, scatterplots, etc., with just a few lines of code. For examples, see the sample plots and thumbnail gallery.\n",
    "\n",
    ">For simple plotting the pyplot module provides a MATLAB-like interface, particularly when combined with IPython. For the power user, you have full control of line styles, font properties, axes properties, etc, via an object oriented interface or via a set of functions familiar to MATLAB users."
   ]
  },
  {
   "cell_type": "code",
   "execution_count": 1,
   "metadata": {},
   "outputs": [],
   "source": [
    "import numpy as np\n",
    "import pandas as pd\n",
    "import matplotlib.pyplot as plt"
   ]
  },
  {
   "cell_type": "code",
   "execution_count": 2,
   "metadata": {},
   "outputs": [],
   "source": [
    "#np.ndarray?"
   ]
  },
  {
   "cell_type": "code",
   "execution_count": 3,
   "metadata": {},
   "outputs": [
    {
     "data": {
      "text/plain": [
       "array([4, 1, 8, 6, 5, 4, 6, 5, 7, 5])"
      ]
     },
     "execution_count": 3,
     "metadata": {},
     "output_type": "execute_result"
    }
   ],
   "source": [
    "a = np.random.randint(0,10,10)\n",
    "a"
   ]
  },
  {
   "cell_type": "code",
   "execution_count": 4,
   "metadata": {},
   "outputs": [
    {
     "data": {
      "text/plain": [
       "numpy.ndarray"
      ]
     },
     "execution_count": 4,
     "metadata": {},
     "output_type": "execute_result"
    }
   ],
   "source": [
    "type(a)"
   ]
  },
  {
   "cell_type": "code",
   "execution_count": 5,
   "metadata": {},
   "outputs": [
    {
     "data": {
      "text/plain": [
       "(10,)"
      ]
     },
     "execution_count": 5,
     "metadata": {},
     "output_type": "execute_result"
    }
   ],
   "source": [
    "a.shape"
   ]
  },
  {
   "cell_type": "code",
   "execution_count": 6,
   "metadata": {},
   "outputs": [
    {
     "data": {
      "text/plain": [
       "10"
      ]
     },
     "execution_count": 6,
     "metadata": {},
     "output_type": "execute_result"
    }
   ],
   "source": [
    "a.size"
   ]
  },
  {
   "cell_type": "code",
   "execution_count": 7,
   "metadata": {},
   "outputs": [
    {
     "data": {
      "text/plain": [
       "dtype('int64')"
      ]
     },
     "execution_count": 7,
     "metadata": {},
     "output_type": "execute_result"
    }
   ],
   "source": [
    "a.dtype"
   ]
  },
  {
   "cell_type": "code",
   "execution_count": 8,
   "metadata": {},
   "outputs": [
    {
     "data": {
      "text/plain": [
       "array([4, 1, 8, 6, 5, 4, 6, 5, 7, 5], dtype=int8)"
      ]
     },
     "execution_count": 8,
     "metadata": {},
     "output_type": "execute_result"
    }
   ],
   "source": [
    "a.astype('int8')"
   ]
  },
  {
   "cell_type": "code",
   "execution_count": 9,
   "metadata": {},
   "outputs": [
    {
     "data": {
      "text/plain": [
       "dtype('int64')"
      ]
     },
     "execution_count": 9,
     "metadata": {},
     "output_type": "execute_result"
    }
   ],
   "source": [
    "a.dtype"
   ]
  },
  {
   "cell_type": "code",
   "execution_count": 10,
   "metadata": {},
   "outputs": [
    {
     "data": {
      "text/plain": [
       "18446744073709551616"
      ]
     },
     "execution_count": 10,
     "metadata": {},
     "output_type": "execute_result"
    }
   ],
   "source": [
    "2**64"
   ]
  },
  {
   "cell_type": "code",
   "execution_count": 11,
   "metadata": {},
   "outputs": [
    {
     "data": {
      "text/plain": [
       "256"
      ]
     },
     "execution_count": 11,
     "metadata": {},
     "output_type": "execute_result"
    }
   ],
   "source": [
    "2**8"
   ]
  },
  {
   "cell_type": "code",
   "execution_count": 12,
   "metadata": {},
   "outputs": [
    {
     "data": {
      "text/plain": [
       "8"
      ]
     },
     "execution_count": 12,
     "metadata": {},
     "output_type": "execute_result"
    }
   ],
   "source": [
    "a.itemsize"
   ]
  },
  {
   "cell_type": "code",
   "execution_count": 13,
   "metadata": {},
   "outputs": [],
   "source": [
    "a = np.random.random((10,10))"
   ]
  },
  {
   "cell_type": "code",
   "execution_count": 14,
   "metadata": {},
   "outputs": [
    {
     "data": {
      "text/plain": [
       "array([[0.93725246, 0.15668888, 0.36611166, 0.28521612, 0.729094  ,\n",
       "        0.83046116, 0.55376036, 0.95884927, 0.29762467, 0.71853585],\n",
       "       [0.08302075, 0.82469381, 0.57287118, 0.70806906, 0.29734792,\n",
       "        0.45314182, 0.16445973, 0.91474639, 0.64656203, 0.06703322],\n",
       "       [0.81024205, 0.68601501, 0.63991827, 0.11388148, 0.88810797,\n",
       "        0.25755703, 0.69543896, 0.97644668, 0.6011786 , 0.86319739],\n",
       "       [0.72307131, 0.50361642, 0.32121823, 0.39273795, 0.54175156,\n",
       "        0.85948579, 0.67301454, 0.95202843, 0.98558777, 0.92096823],\n",
       "       [0.22072178, 0.14158838, 0.70495497, 0.35857463, 0.00207674,\n",
       "        0.77898224, 0.94767885, 0.43931853, 0.25459632, 0.12926945],\n",
       "       [0.98403695, 0.65750484, 0.95815873, 0.06120255, 0.70874163,\n",
       "        0.83894932, 0.8006265 , 0.77455562, 0.52743587, 0.75654806],\n",
       "       [0.08661299, 0.54225296, 0.99453582, 0.49692316, 0.91009936,\n",
       "        0.27296071, 0.46314554, 0.3789339 , 0.52389196, 0.24766733],\n",
       "       [0.13483696, 0.29410672, 0.39846689, 0.84681589, 0.67671481,\n",
       "        0.84317288, 0.85344483, 0.66011626, 0.51693959, 0.06508179],\n",
       "       [0.57092602, 0.36669827, 0.01014502, 0.48240653, 0.37714147,\n",
       "        0.76761243, 0.01684733, 0.56304474, 0.51408509, 0.83939443],\n",
       "       [0.98603552, 0.29201346, 0.25903222, 0.14021301, 0.16637503,\n",
       "        0.99199766, 0.87244072, 0.60820336, 0.65643397, 0.640062  ]])"
      ]
     },
     "execution_count": 14,
     "metadata": {},
     "output_type": "execute_result"
    }
   ],
   "source": [
    "a"
   ]
  },
  {
   "cell_type": "code",
   "execution_count": 15,
   "metadata": {},
   "outputs": [
    {
     "data": {
      "text/plain": [
       "(10, 10)"
      ]
     },
     "execution_count": 15,
     "metadata": {},
     "output_type": "execute_result"
    }
   ],
   "source": [
    "a.shape"
   ]
  },
  {
   "cell_type": "code",
   "execution_count": 16,
   "metadata": {},
   "outputs": [
    {
     "data": {
      "text/plain": [
       "array([0.93725246, 0.15668888, 0.36611166, 0.28521612, 0.729094  ,\n",
       "       0.83046116, 0.55376036, 0.95884927, 0.29762467, 0.71853585])"
      ]
     },
     "execution_count": 16,
     "metadata": {},
     "output_type": "execute_result"
    }
   ],
   "source": [
    "a[0]"
   ]
  },
  {
   "cell_type": "code",
   "execution_count": 17,
   "metadata": {},
   "outputs": [
    {
     "data": {
      "text/plain": [
       "0.9372524570452767"
      ]
     },
     "execution_count": 17,
     "metadata": {},
     "output_type": "execute_result"
    }
   ],
   "source": [
    "a[0,0]"
   ]
  },
  {
   "cell_type": "code",
   "execution_count": 18,
   "metadata": {},
   "outputs": [
    {
     "data": {
      "text/plain": [
       "array([0.93725246, 0.08302075, 0.81024205, 0.72307131, 0.22072178,\n",
       "       0.98403695, 0.08661299, 0.13483696, 0.57092602, 0.98603552])"
      ]
     },
     "execution_count": 18,
     "metadata": {},
     "output_type": "execute_result"
    }
   ],
   "source": [
    "a[:,0]"
   ]
  },
  {
   "cell_type": "code",
   "execution_count": 19,
   "metadata": {},
   "outputs": [
    {
     "data": {
      "text/plain": [
       "array([[0.93725246, 0.15668888, 0.36611166, 0.28521612, 0.729094  ,\n",
       "        0.83046116, 0.55376036, 0.95884927, 0.29762467, 0.71853585],\n",
       "       [0.08302075, 0.82469381, 0.57287118, 0.70806906, 0.29734792,\n",
       "        0.45314182, 0.16445973, 0.91474639, 0.64656203, 0.06703322],\n",
       "       [0.81024205, 0.68601501, 0.63991827, 0.11388148, 0.88810797,\n",
       "        0.25755703, 0.69543896, 0.97644668, 0.6011786 , 0.86319739]])"
      ]
     },
     "execution_count": 19,
     "metadata": {},
     "output_type": "execute_result"
    }
   ],
   "source": [
    "a[0:3]"
   ]
  },
  {
   "cell_type": "code",
   "execution_count": 20,
   "metadata": {},
   "outputs": [
    {
     "data": {
      "text/plain": [
       "array([[0.93725246, 0.15668888, 0.36611166],\n",
       "       [0.08302075, 0.82469381, 0.57287118],\n",
       "       [0.81024205, 0.68601501, 0.63991827],\n",
       "       [0.72307131, 0.50361642, 0.32121823],\n",
       "       [0.22072178, 0.14158838, 0.70495497],\n",
       "       [0.98403695, 0.65750484, 0.95815873],\n",
       "       [0.08661299, 0.54225296, 0.99453582],\n",
       "       [0.13483696, 0.29410672, 0.39846689],\n",
       "       [0.57092602, 0.36669827, 0.01014502],\n",
       "       [0.98603552, 0.29201346, 0.25903222]])"
      ]
     },
     "execution_count": 20,
     "metadata": {},
     "output_type": "execute_result"
    }
   ],
   "source": [
    "a[:,0:3]"
   ]
  },
  {
   "cell_type": "code",
   "execution_count": 21,
   "metadata": {},
   "outputs": [
    {
     "data": {
      "text/plain": [
       "array([[0.93725246, 0.15668888, 0.36611166],\n",
       "       [0.08302075, 0.82469381, 0.57287118],\n",
       "       [0.81024205, 0.68601501, 0.63991827]])"
      ]
     },
     "execution_count": 21,
     "metadata": {},
     "output_type": "execute_result"
    }
   ],
   "source": [
    "a[0:3,0:3]"
   ]
  },
  {
   "cell_type": "code",
   "execution_count": 22,
   "metadata": {},
   "outputs": [
    {
     "data": {
      "text/plain": [
       "0.5534435458189786"
      ]
     },
     "execution_count": 22,
     "metadata": {},
     "output_type": "execute_result"
    }
   ],
   "source": [
    "a.mean()"
   ]
  },
  {
   "cell_type": "code",
   "execution_count": 23,
   "metadata": {},
   "outputs": [
    {
     "data": {
      "text/plain": [
       "array([0.15668888, 0.06703322, 0.11388148, 0.32121823, 0.00207674,\n",
       "       0.06120255, 0.08661299, 0.06508179, 0.01014502, 0.14021301])"
      ]
     },
     "execution_count": 23,
     "metadata": {},
     "output_type": "execute_result"
    }
   ],
   "source": [
    "a.min(axis=1)"
   ]
  },
  {
   "cell_type": "code",
   "execution_count": 24,
   "metadata": {},
   "outputs": [
    {
     "data": {
      "text/plain": [
       "array([0.08302075, 0.14158838, 0.01014502, 0.06120255, 0.00207674,\n",
       "       0.25755703, 0.01684733, 0.3789339 , 0.25459632, 0.06508179])"
      ]
     },
     "execution_count": 24,
     "metadata": {},
     "output_type": "execute_result"
    }
   ],
   "source": [
    "a.min(axis=0)"
   ]
  },
  {
   "cell_type": "code",
   "execution_count": 25,
   "metadata": {},
   "outputs": [
    {
     "data": {
      "text/plain": [
       "[<matplotlib.lines.Line2D at 0x7f6239a52c70>,\n",
       " <matplotlib.lines.Line2D at 0x7f6239a52ca0>,\n",
       " <matplotlib.lines.Line2D at 0x7f6239a52e20>,\n",
       " <matplotlib.lines.Line2D at 0x7f6239a52ee0>,\n",
       " <matplotlib.lines.Line2D at 0x7f6239a52fa0>,\n",
       " <matplotlib.lines.Line2D at 0x7f6239a640a0>,\n",
       " <matplotlib.lines.Line2D at 0x7f6239a64160>,\n",
       " <matplotlib.lines.Line2D at 0x7f6239a64220>,\n",
       " <matplotlib.lines.Line2D at 0x7f6239a642e0>,\n",
       " <matplotlib.lines.Line2D at 0x7f6239a643a0>]"
      ]
     },
     "execution_count": 25,
     "metadata": {},
     "output_type": "execute_result"
    },
    {
     "data": {
      "image/png": "[encoded data removed]",
      "text/plain": [
       "<Figure size 432x288 with 1 Axes>"
      ]
     },
     "metadata": {
      "needs_background": "light"
     },
     "output_type": "display_data"
    }
   ],
   "source": [
    "plt.plot(a)"
   ]
  },
  {
   "cell_type": "code",
   "execution_count": 26,
   "metadata": {},
   "outputs": [
    {
     "data": {
      "text/plain": [
       "[<matplotlib.lines.Line2D at 0x7f6230154520>]"
      ]
     },
     "execution_count": 26,
     "metadata": {},
     "output_type": "execute_result"
    },
    {
     "data": {
      "image/png": "[encoded data removed]",
      "text/plain": [
       "<Figure size 432x288 with 1 Axes>"
      ]
     },
     "metadata": {
      "needs_background": "light"
     },
     "output_type": "display_data"
    }
   ],
   "source": [
    "plt.plot(a[0])"
   ]
  },
  {
   "cell_type": "code",
   "execution_count": 27,
   "metadata": {},
   "outputs": [
    {
     "data": {
      "text/plain": [
       "<matplotlib.image.AxesImage at 0x7f62300c54f0>"
      ]
     },
     "execution_count": 27,
     "metadata": {},
     "output_type": "execute_result"
    },
    {
     "data": {
      "image/png": "[encoded data removed]",
      "text/plain": [
       "<Figure size 432x288 with 1 Axes>"
      ]
     },
     "metadata": {
      "needs_background": "light"
     },
     "output_type": "display_data"
    }
   ],
   "source": [
    "plt.imshow(a)"
   ]
  },
  {
   "cell_type": "code",
   "execution_count": 28,
   "metadata": {},
   "outputs": [
    {
     "data": {
      "text/plain": [
       "array([[0.93725246, 0.15668888, 0.36611166, 0.28521612, 0.729094  ,\n",
       "        0.83046116, 0.55376036, 0.95884927, 0.29762467, 0.71853585],\n",
       "       [0.08302075, 0.82469381, 0.57287118, 0.70806906, 0.29734792,\n",
       "        0.45314182, 0.16445973, 0.91474639, 0.64656203, 0.06703322],\n",
       "       [0.81024205, 0.68601501, 0.63991827, 0.11388148, 0.88810797,\n",
       "        0.25755703, 0.69543896, 0.97644668, 0.6011786 , 0.86319739],\n",
       "       [0.72307131, 0.50361642, 0.32121823, 0.39273795, 0.54175156,\n",
       "        0.85948579, 0.67301454, 0.95202843, 0.98558777, 0.92096823],\n",
       "       [0.22072178, 0.14158838, 0.70495497, 0.35857463, 0.00207674,\n",
       "        0.77898224, 0.94767885, 0.43931853, 0.25459632, 0.12926945],\n",
       "       [0.98403695, 0.65750484, 0.95815873, 0.06120255, 0.70874163,\n",
       "        0.83894932, 0.8006265 , 0.77455562, 0.52743587, 0.75654806],\n",
       "       [0.08661299, 0.54225296, 0.99453582, 0.49692316, 0.91009936,\n",
       "        0.27296071, 0.46314554, 0.3789339 , 0.52389196, 0.24766733],\n",
       "       [0.13483696, 0.29410672, 0.39846689, 0.84681589, 0.67671481,\n",
       "        0.84317288, 0.85344483, 0.66011626, 0.51693959, 0.06508179],\n",
       "       [0.57092602, 0.36669827, 0.01014502, 0.48240653, 0.37714147,\n",
       "        0.76761243, 0.01684733, 0.56304474, 0.51408509, 0.83939443],\n",
       "       [0.98603552, 0.29201346, 0.25903222, 0.14021301, 0.16637503,\n",
       "        0.99199766, 0.87244072, 0.60820336, 0.65643397, 0.640062  ]])"
      ]
     },
     "execution_count": 28,
     "metadata": {},
     "output_type": "execute_result"
    }
   ],
   "source": [
    "a"
   ]
  },
  {
   "cell_type": "code",
   "execution_count": 29,
   "metadata": {},
   "outputs": [
    {
     "data": {
      "text/plain": [
       "array([[ True, False, False, False,  True,  True,  True,  True, False,\n",
       "         True],\n",
       "       [False,  True,  True,  True, False, False, False,  True,  True,\n",
       "        False],\n",
       "       [ True,  True,  True, False,  True, False,  True,  True,  True,\n",
       "         True],\n",
       "       [ True,  True, False, False,  True,  True,  True,  True,  True,\n",
       "         True],\n",
       "       [False, False,  True, False, False,  True,  True, False, False,\n",
       "        False],\n",
       "       [ True,  True,  True, False,  True,  True,  True,  True,  True,\n",
       "         True],\n",
       "       [False,  True,  True, False,  True, False, False, False,  True,\n",
       "        False],\n",
       "       [False, False, False,  True,  True,  True,  True,  True,  True,\n",
       "        False],\n",
       "       [ True, False, False, False, False,  True, False,  True,  True,\n",
       "         True],\n",
       "       [ True, False, False, False, False,  True,  True,  True,  True,\n",
       "         True]])"
      ]
     },
     "execution_count": 29,
     "metadata": {},
     "output_type": "execute_result"
    }
   ],
   "source": [
    "a > 0.5"
   ]
  },
  {
   "cell_type": "code",
   "execution_count": 30,
   "metadata": {},
   "outputs": [],
   "source": [
    "idx = (a > 0.5)"
   ]
  },
  {
   "cell_type": "code",
   "execution_count": 31,
   "metadata": {},
   "outputs": [
    {
     "data": {
      "text/plain": [
       "array([0.93725246, 0.729094  , 0.83046116, 0.55376036, 0.95884927,\n",
       "       0.71853585, 0.82469381, 0.57287118, 0.70806906, 0.91474639,\n",
       "       0.64656203, 0.81024205, 0.68601501, 0.63991827, 0.88810797,\n",
       "       0.69543896, 0.97644668, 0.6011786 , 0.86319739, 0.72307131,\n",
       "       0.50361642, 0.54175156, 0.85948579, 0.67301454, 0.95202843,\n",
       "       0.98558777, 0.92096823, 0.70495497, 0.77898224, 0.94767885,\n",
       "       0.98403695, 0.65750484, 0.95815873, 0.70874163, 0.83894932,\n",
       "       0.8006265 , 0.77455562, 0.52743587, 0.75654806, 0.54225296,\n",
       "       0.99453582, 0.91009936, 0.52389196, 0.84681589, 0.67671481,\n",
       "       0.84317288, 0.85344483, 0.66011626, 0.51693959, 0.57092602,\n",
       "       0.76761243, 0.56304474, 0.51408509, 0.83939443, 0.98603552,\n",
       "       0.99199766, 0.87244072, 0.60820336, 0.65643397, 0.640062  ])"
      ]
     },
     "execution_count": 31,
     "metadata": {},
     "output_type": "execute_result"
    }
   ],
   "source": [
    "a[idx]"
   ]
  },
  {
   "cell_type": "code",
   "execution_count": 32,
   "metadata": {},
   "outputs": [
    {
     "data": {
      "text/plain": [
       "(10, 10)"
      ]
     },
     "execution_count": 32,
     "metadata": {},
     "output_type": "execute_result"
    }
   ],
   "source": [
    "a.shape"
   ]
  },
  {
   "cell_type": "code",
   "execution_count": 33,
   "metadata": {},
   "outputs": [
    {
     "data": {
      "text/plain": [
       "(60,)"
      ]
     },
     "execution_count": 33,
     "metadata": {},
     "output_type": "execute_result"
    }
   ],
   "source": [
    "a[idx].shape"
   ]
  },
  {
   "cell_type": "code",
   "execution_count": 34,
   "metadata": {},
   "outputs": [
    {
     "data": {
      "text/plain": [
       "60"
      ]
     },
     "execution_count": 34,
     "metadata": {},
     "output_type": "execute_result"
    }
   ],
   "source": [
    "idx.nonzero()[0].size"
   ]
  },
  {
   "cell_type": "code",
   "execution_count": 35,
   "metadata": {},
   "outputs": [],
   "source": [
    "idx = (a > 0.5) & (a < 0.7)\n",
    "#idx = (a < 0.5) | (a > 0.9)"
   ]
  },
  {
   "cell_type": "code",
   "execution_count": 36,
   "metadata": {},
   "outputs": [
    {
     "data": {
      "text/plain": [
       "array([[False, False, False, False, False, False,  True, False, False,\n",
       "        False],\n",
       "       [False, False,  True, False, False, False, False, False,  True,\n",
       "        False],\n",
       "       [False,  True,  True, False, False, False,  True, False,  True,\n",
       "        False],\n",
       "       [False,  True, False, False,  True, False,  True, False, False,\n",
       "        False],\n",
       "       [False, False, False, False, False, False, False, False, False,\n",
       "        False],\n",
       "       [False,  True, False, False, False, False, False, False,  True,\n",
       "        False],\n",
       "       [False,  True, False, False, False, False, False, False,  True,\n",
       "        False],\n",
       "       [False, False, False, False,  True, False, False,  True,  True,\n",
       "        False],\n",
       "       [ True, False, False, False, False, False, False,  True,  True,\n",
       "        False],\n",
       "       [False, False, False, False, False, False, False,  True,  True,\n",
       "         True]])"
      ]
     },
     "execution_count": 36,
     "metadata": {},
     "output_type": "execute_result"
    }
   ],
   "source": [
    "idx"
   ]
  },
  {
   "cell_type": "code",
   "execution_count": 37,
   "metadata": {},
   "outputs": [
    {
     "data": {
      "text/plain": [
       "array([0.55376036, 0.57287118, 0.64656203, 0.68601501, 0.63991827,\n",
       "       0.69543896, 0.6011786 , 0.50361642, 0.54175156, 0.67301454,\n",
       "       0.65750484, 0.52743587, 0.54225296, 0.52389196, 0.67671481,\n",
       "       0.66011626, 0.51693959, 0.57092602, 0.56304474, 0.51408509,\n",
       "       0.60820336, 0.65643397, 0.640062  ])"
      ]
     },
     "execution_count": 37,
     "metadata": {},
     "output_type": "execute_result"
    }
   ],
   "source": [
    "a[idx]"
   ]
  },
  {
   "cell_type": "code",
   "execution_count": 38,
   "metadata": {},
   "outputs": [
    {
     "data": {
      "text/plain": [
       "(23,)"
      ]
     },
     "execution_count": 38,
     "metadata": {},
     "output_type": "execute_result"
    }
   ],
   "source": [
    "a[idx].shape"
   ]
  },
  {
   "cell_type": "code",
   "execution_count": 39,
   "metadata": {},
   "outputs": [
    {
     "data": {
      "text/plain": [
       "array([[ True,  True,  True,  True,  True,  True, False,  True,  True,\n",
       "         True],\n",
       "       [ True,  True, False,  True,  True,  True,  True,  True, False,\n",
       "         True],\n",
       "       [ True, False, False,  True,  True,  True, False,  True, False,\n",
       "         True],\n",
       "       [ True, False,  True,  True, False,  True, False,  True,  True,\n",
       "         True],\n",
       "       [ True,  True,  True,  True,  True,  True,  True,  True,  True,\n",
       "         True],\n",
       "       [ True, False,  True,  True,  True,  True,  True,  True, False,\n",
       "         True],\n",
       "       [ True, False,  True,  True,  True,  True,  True,  True, False,\n",
       "         True],\n",
       "       [ True,  True,  True,  True, False,  True,  True, False, False,\n",
       "         True],\n",
       "       [False,  True,  True,  True,  True,  True,  True, False, False,\n",
       "         True],\n",
       "       [ True,  True,  True,  True,  True,  True,  True, False, False,\n",
       "        False]])"
      ]
     },
     "execution_count": 39,
     "metadata": {},
     "output_type": "execute_result"
    }
   ],
   "source": [
    "~idx"
   ]
  },
  {
   "cell_type": "code",
   "execution_count": 40,
   "metadata": {},
   "outputs": [
    {
     "data": {
      "text/plain": [
       "array([0.93725246, 0.15668888, 0.36611166, 0.28521612, 0.729094  ,\n",
       "       0.83046116, 0.95884927, 0.29762467, 0.71853585, 0.08302075,\n",
       "       0.82469381, 0.70806906, 0.29734792, 0.45314182, 0.16445973,\n",
       "       0.91474639, 0.06703322, 0.81024205, 0.11388148, 0.88810797,\n",
       "       0.25755703, 0.97644668, 0.86319739, 0.72307131, 0.32121823,\n",
       "       0.39273795, 0.85948579, 0.95202843, 0.98558777, 0.92096823,\n",
       "       0.22072178, 0.14158838, 0.70495497, 0.35857463, 0.00207674,\n",
       "       0.77898224, 0.94767885, 0.43931853, 0.25459632, 0.12926945,\n",
       "       0.98403695, 0.95815873, 0.06120255, 0.70874163, 0.83894932,\n",
       "       0.8006265 , 0.77455562, 0.75654806, 0.08661299, 0.99453582,\n",
       "       0.49692316, 0.91009936, 0.27296071, 0.46314554, 0.3789339 ,\n",
       "       0.24766733, 0.13483696, 0.29410672, 0.39846689, 0.84681589,\n",
       "       0.84317288, 0.85344483, 0.06508179, 0.36669827, 0.01014502,\n",
       "       0.48240653, 0.37714147, 0.76761243, 0.01684733, 0.83939443,\n",
       "       0.98603552, 0.29201346, 0.25903222, 0.14021301, 0.16637503,\n",
       "       0.99199766, 0.87244072])"
      ]
     },
     "execution_count": 40,
     "metadata": {},
     "output_type": "execute_result"
    }
   ],
   "source": [
    "a[~idx]"
   ]
  },
  {
   "cell_type": "code",
   "execution_count": 41,
   "metadata": {},
   "outputs": [
    {
     "data": {
      "text/plain": [
       "(77,)"
      ]
     },
     "execution_count": 41,
     "metadata": {},
     "output_type": "execute_result"
    }
   ],
   "source": [
    "a[~idx].shape"
   ]
  },
  {
   "cell_type": "markdown",
   "metadata": {},
   "source": [
    "### Masked array"
   ]
  },
  {
   "cell_type": "code",
   "execution_count": 42,
   "metadata": {},
   "outputs": [
    {
     "data": {
      "text/plain": [
       "array([[0.93725246, 0.15668888, 0.36611166, 0.28521612, 0.729094  ,\n",
       "        0.83046116, 0.55376036, 0.95884927, 0.29762467, 0.71853585],\n",
       "       [0.08302075, 0.82469381, 0.57287118, 0.70806906, 0.29734792,\n",
       "        0.45314182, 0.16445973, 0.91474639, 0.64656203, 0.06703322],\n",
       "       [0.81024205, 0.68601501, 0.63991827, 0.11388148, 0.88810797,\n",
       "        0.25755703, 0.69543896, 0.97644668, 0.6011786 , 0.86319739],\n",
       "       [0.72307131, 0.50361642, 0.32121823, 0.39273795, 0.54175156,\n",
       "        0.85948579, 0.67301454, 0.95202843, 0.98558777, 0.92096823],\n",
       "       [0.22072178, 0.14158838, 0.70495497, 0.35857463, 0.00207674,\n",
       "        0.77898224, 0.94767885, 0.43931853, 0.25459632, 0.12926945],\n",
       "       [0.98403695, 0.65750484, 0.95815873, 0.06120255, 0.70874163,\n",
       "        0.83894932, 0.8006265 , 0.77455562, 0.52743587, 0.75654806],\n",
       "       [0.08661299, 0.54225296, 0.99453582, 0.49692316, 0.91009936,\n",
       "        0.27296071, 0.46314554, 0.3789339 , 0.52389196, 0.24766733],\n",
       "       [0.13483696, 0.29410672, 0.39846689, 0.84681589, 0.67671481,\n",
       "        0.84317288, 0.85344483, 0.66011626, 0.51693959, 0.06508179],\n",
       "       [0.57092602, 0.36669827, 0.01014502, 0.48240653, 0.37714147,\n",
       "        0.76761243, 0.01684733, 0.56304474, 0.51408509, 0.83939443],\n",
       "       [0.98603552, 0.29201346, 0.25903222, 0.14021301, 0.16637503,\n",
       "        0.99199766, 0.87244072, 0.60820336, 0.65643397, 0.640062  ]])"
      ]
     },
     "execution_count": 42,
     "metadata": {},
     "output_type": "execute_result"
    }
   ],
   "source": [
    "a"
   ]
  },
  {
   "cell_type": "code",
   "execution_count": 43,
   "metadata": {},
   "outputs": [
    {
     "data": {
      "text/plain": [
       "array([[False, False, False, False, False, False,  True, False, False,\n",
       "        False],\n",
       "       [False, False,  True, False, False, False, False, False,  True,\n",
       "        False],\n",
       "       [False,  True,  True, False, False, False,  True, False,  True,\n",
       "        False],\n",
       "       [False,  True, False, False,  True, False,  True, False, False,\n",
       "        False],\n",
       "       [False, False, False, False, False, False, False, False, False,\n",
       "        False],\n",
       "       [False,  True, False, False, False, False, False, False,  True,\n",
       "        False],\n",
       "       [False,  True, False, False, False, False, False, False,  True,\n",
       "        False],\n",
       "       [False, False, False, False,  True, False, False,  True,  True,\n",
       "        False],\n",
       "       [ True, False, False, False, False, False, False,  True,  True,\n",
       "        False],\n",
       "       [False, False, False, False, False, False, False,  True,  True,\n",
       "         True]])"
      ]
     },
     "execution_count": 43,
     "metadata": {},
     "output_type": "execute_result"
    }
   ],
   "source": [
    "idx"
   ]
  },
  {
   "cell_type": "code",
   "execution_count": 44,
   "metadata": {},
   "outputs": [],
   "source": [
    "ma = np.ma.array(a, mask=~idx)"
   ]
  },
  {
   "cell_type": "code",
   "execution_count": 45,
   "metadata": {},
   "outputs": [
    {
     "data": {
      "text/plain": [
       "masked_array(\n",
       "  data=[[--, --, --, --, --, --, 0.5537603625060096, --, --, --],\n",
       "        [--, --, 0.5728711811469509, --, --, --, --, --,\n",
       "         0.6465620326513881, --],\n",
       "        [--, 0.6860150052162564, 0.6399182670598812, --, --, --,\n",
       "         0.6954389578430052, --, 0.6011785952124488, --],\n",
       "        [--, 0.5036164236165882, --, --, 0.5417515578959615, --,\n",
       "         0.67301453764201, --, --, --],\n",
       "        [--, --, --, --, --, --, --, --, --, --],\n",
       "        [--, 0.6575048391787636, --, --, --, --, --, --,\n",
       "         0.5274358710655832, --],\n",
       "        [--, 0.5422529561477778, --, --, --, --, --, --,\n",
       "         0.5238919606546085, --],\n",
       "        [--, --, --, --, 0.6767148052677167, --, --, 0.6601162558250676,\n",
       "         0.5169395925974186, --],\n",
       "        [0.5709260243416924, --, --, --, --, --, --, 0.5630447415496301,\n",
       "         0.5140850876133204, --],\n",
       "        [--, --, --, --, --, --, --, 0.60820335527965,\n",
       "         0.6564339696072983, 0.6400620038099053]],\n",
       "  mask=[[ True,  True,  True,  True,  True,  True, False,  True,  True,\n",
       "          True],\n",
       "        [ True,  True, False,  True,  True,  True,  True,  True, False,\n",
       "          True],\n",
       "        [ True, False, False,  True,  True,  True, False,  True, False,\n",
       "          True],\n",
       "        [ True, False,  True,  True, False,  True, False,  True,  True,\n",
       "          True],\n",
       "        [ True,  True,  True,  True,  True,  True,  True,  True,  True,\n",
       "          True],\n",
       "        [ True, False,  True,  True,  True,  True,  True,  True, False,\n",
       "          True],\n",
       "        [ True, False,  True,  True,  True,  True,  True,  True, False,\n",
       "          True],\n",
       "        [ True,  True,  True,  True, False,  True,  True, False, False,\n",
       "          True],\n",
       "        [False,  True,  True,  True,  True,  True,  True, False, False,\n",
       "          True],\n",
       "        [ True,  True,  True,  True,  True,  True,  True, False, False,\n",
       "         False]],\n",
       "  fill_value=1e+20)"
      ]
     },
     "execution_count": 45,
     "metadata": {},
     "output_type": "execute_result"
    }
   ],
   "source": [
    "ma"
   ]
  },
  {
   "cell_type": "code",
   "execution_count": 46,
   "metadata": {},
   "outputs": [
    {
     "data": {
      "text/plain": [
       "0.5987712340751709"
      ]
     },
     "execution_count": 46,
     "metadata": {},
     "output_type": "execute_result"
    }
   ],
   "source": [
    "ma.mean()"
   ]
  },
  {
   "cell_type": "code",
   "execution_count": 47,
   "metadata": {},
   "outputs": [
    {
     "data": {
      "text/plain": [
       "<matplotlib.image.AxesImage at 0x7f62300ac0d0>"
      ]
     },
     "execution_count": 47,
     "metadata": {},
     "output_type": "execute_result"
    },
    {
     "data": {
      "image/png": "[encoded data removed]",
      "text/plain": [
       "<Figure size 432x288 with 1 Axes>"
      ]
     },
     "metadata": {
      "needs_background": "light"
     },
     "output_type": "display_data"
    }
   ],
   "source": [
    "plt.imshow(ma)"
   ]
  },
  {
   "cell_type": "markdown",
   "metadata": {},
   "source": [
    "# Pandas\n",
    "> pandas is a fast, powerful, flexible and easy to use open source data analysis and manipulation tool,\n",
    "built on top of the Python programming language. \n",
    "\n",
    "> pandas is a Python package providing fast, flexible, and expressive data structures designed to make working with “relational” or “labeled” data both easy and intuitive. It aims to be the fundamental high-level building block for doing practical, real-world data analysis in Python. Additionally, it has the broader goal of becoming the most powerful and flexible open source data analysis/manipulation tool available in any language. It is already well on its way toward this goal."
   ]
  },
  {
   "cell_type": "code",
   "execution_count": 48,
   "metadata": {},
   "outputs": [],
   "source": [
    "df = pd.DataFrame(a)"
   ]
  },
  {
   "cell_type": "code",
   "execution_count": 49,
   "metadata": {},
   "outputs": [
    {
     "data": {
      "text/html": [
       "<div>\n",
       "<style scoped>\n",
       "    .dataframe tbody tr th:only-of-type {\n",
       "        vertical-align: middle;\n",
       "    }\n",
       "\n",
       "    .dataframe tbody tr th {\n",
       "        vertical-align: top;\n",
       "    }\n",
       "\n",
       "    .dataframe thead th {\n",
       "        text-align: right;\n",
       "    }\n",
       "</style>\n",
       "<table border=\"1\" class=\"dataframe\">\n",
       "  <thead>\n",
       "    <tr style=\"text-align: right;\">\n",
       "      <th></th>\n",
       "      <th>0</th>\n",
       "      <th>1</th>\n",
       "      <th>2</th>\n",
       "      <th>3</th>\n",
       "      <th>4</th>\n",
       "      <th>5</th>\n",
       "      <th>6</th>\n",
       "      <th>7</th>\n",
       "      <th>8</th>\n",
       "      <th>9</th>\n",
       "    </tr>\n",
       "  </thead>\n",
       "  <tbody>\n",
       "    <tr>\n",
       "      <th>0</th>\n",
       "      <td>0.937252</td>\n",
       "      <td>0.156689</td>\n",
       "      <td>0.366112</td>\n",
       "      <td>0.285216</td>\n",
       "      <td>0.729094</td>\n",
       "      <td>0.830461</td>\n",
       "      <td>0.553760</td>\n",
       "      <td>0.958849</td>\n",
       "      <td>0.297625</td>\n",
       "      <td>0.718536</td>\n",
       "    </tr>\n",
       "    <tr>\n",
       "      <th>1</th>\n",
       "      <td>0.083021</td>\n",
       "      <td>0.824694</td>\n",
       "      <td>0.572871</td>\n",
       "      <td>0.708069</td>\n",
       "      <td>0.297348</td>\n",
       "      <td>0.453142</td>\n",
       "      <td>0.164460</td>\n",
       "      <td>0.914746</td>\n",
       "      <td>0.646562</td>\n",
       "      <td>0.067033</td>\n",
       "    </tr>\n",
       "    <tr>\n",
       "      <th>2</th>\n",
       "      <td>0.810242</td>\n",
       "      <td>0.686015</td>\n",
       "      <td>0.639918</td>\n",
       "      <td>0.113881</td>\n",
       "      <td>0.888108</td>\n",
       "      <td>0.257557</td>\n",
       "      <td>0.695439</td>\n",
       "      <td>0.976447</td>\n",
       "      <td>0.601179</td>\n",
       "      <td>0.863197</td>\n",
       "    </tr>\n",
       "    <tr>\n",
       "      <th>3</th>\n",
       "      <td>0.723071</td>\n",
       "      <td>0.503616</td>\n",
       "      <td>0.321218</td>\n",
       "      <td>0.392738</td>\n",
       "      <td>0.541752</td>\n",
       "      <td>0.859486</td>\n",
       "      <td>0.673015</td>\n",
       "      <td>0.952028</td>\n",
       "      <td>0.985588</td>\n",
       "      <td>0.920968</td>\n",
       "    </tr>\n",
       "    <tr>\n",
       "      <th>4</th>\n",
       "      <td>0.220722</td>\n",
       "      <td>0.141588</td>\n",
       "      <td>0.704955</td>\n",
       "      <td>0.358575</td>\n",
       "      <td>0.002077</td>\n",
       "      <td>0.778982</td>\n",
       "      <td>0.947679</td>\n",
       "      <td>0.439319</td>\n",
       "      <td>0.254596</td>\n",
       "      <td>0.129269</td>\n",
       "    </tr>\n",
       "    <tr>\n",
       "      <th>5</th>\n",
       "      <td>0.984037</td>\n",
       "      <td>0.657505</td>\n",
       "      <td>0.958159</td>\n",
       "      <td>0.061203</td>\n",
       "      <td>0.708742</td>\n",
       "      <td>0.838949</td>\n",
       "      <td>0.800627</td>\n",
       "      <td>0.774556</td>\n",
       "      <td>0.527436</td>\n",
       "      <td>0.756548</td>\n",
       "    </tr>\n",
       "    <tr>\n",
       "      <th>6</th>\n",
       "      <td>0.086613</td>\n",
       "      <td>0.542253</td>\n",
       "      <td>0.994536</td>\n",
       "      <td>0.496923</td>\n",
       "      <td>0.910099</td>\n",
       "      <td>0.272961</td>\n",
       "      <td>0.463146</td>\n",
       "      <td>0.378934</td>\n",
       "      <td>0.523892</td>\n",
       "      <td>0.247667</td>\n",
       "    </tr>\n",
       "    <tr>\n",
       "      <th>7</th>\n",
       "      <td>0.134837</td>\n",
       "      <td>0.294107</td>\n",
       "      <td>0.398467</td>\n",
       "      <td>0.846816</td>\n",
       "      <td>0.676715</td>\n",
       "      <td>0.843173</td>\n",
       "      <td>0.853445</td>\n",
       "      <td>0.660116</td>\n",
       "      <td>0.516940</td>\n",
       "      <td>0.065082</td>\n",
       "    </tr>\n",
       "    <tr>\n",
       "      <th>8</th>\n",
       "      <td>0.570926</td>\n",
       "      <td>0.366698</td>\n",
       "      <td>0.010145</td>\n",
       "      <td>0.482407</td>\n",
       "      <td>0.377141</td>\n",
       "      <td>0.767612</td>\n",
       "      <td>0.016847</td>\n",
       "      <td>0.563045</td>\n",
       "      <td>0.514085</td>\n",
       "      <td>0.839394</td>\n",
       "    </tr>\n",
       "    <tr>\n",
       "      <th>9</th>\n",
       "      <td>0.986036</td>\n",
       "      <td>0.292013</td>\n",
       "      <td>0.259032</td>\n",
       "      <td>0.140213</td>\n",
       "      <td>0.166375</td>\n",
       "      <td>0.991998</td>\n",
       "      <td>0.872441</td>\n",
       "      <td>0.608203</td>\n",
       "      <td>0.656434</td>\n",
       "      <td>0.640062</td>\n",
       "    </tr>\n",
       "  </tbody>\n",
       "</table>\n",
       "</div>"
      ],
      "text/plain": [
       "          0         1         2         3         4         5         6  \\\n",
       "0  0.937252  0.156689  0.366112  0.285216  0.729094  0.830461  0.553760   \n",
       "1  0.083021  0.824694  0.572871  0.708069  0.297348  0.453142  0.164460   \n",
       "2  0.810242  0.686015  0.639918  0.113881  0.888108  0.257557  0.695439   \n",
       "3  0.723071  0.503616  0.321218  0.392738  0.541752  0.859486  0.673015   \n",
       "4  0.220722  0.141588  0.704955  0.358575  0.002077  0.778982  0.947679   \n",
       "5  0.984037  0.657505  0.958159  0.061203  0.708742  0.838949  0.800627   \n",
       "6  0.086613  0.542253  0.994536  0.496923  0.910099  0.272961  0.463146   \n",
       "7  0.134837  0.294107  0.398467  0.846816  0.676715  0.843173  0.853445   \n",
       "8  0.570926  0.366698  0.010145  0.482407  0.377141  0.767612  0.016847   \n",
       "9  0.986036  0.292013  0.259032  0.140213  0.166375  0.991998  0.872441   \n",
       "\n",
       "          7         8         9  \n",
       "0  0.958849  0.297625  0.718536  \n",
       "1  0.914746  0.646562  0.067033  \n",
       "2  0.976447  0.601179  0.863197  \n",
       "3  0.952028  0.985588  0.920968  \n",
       "4  0.439319  0.254596  0.129269  \n",
       "5  0.774556  0.527436  0.756548  \n",
       "6  0.378934  0.523892  0.247667  \n",
       "7  0.660116  0.516940  0.065082  \n",
       "8  0.563045  0.514085  0.839394  \n",
       "9  0.608203  0.656434  0.640062  "
      ]
     },
     "execution_count": 49,
     "metadata": {},
     "output_type": "execute_result"
    }
   ],
   "source": [
    "df"
   ]
  },
  {
   "cell_type": "code",
   "execution_count": 50,
   "metadata": {},
   "outputs": [],
   "source": [
    "df.index = ['a','b','c','d','e','f','g','h','i','j']"
   ]
  },
  {
   "cell_type": "code",
   "execution_count": 51,
   "metadata": {},
   "outputs": [
    {
     "data": {
      "text/html": [
       "<div>\n",
       "<style scoped>\n",
       "    .dataframe tbody tr th:only-of-type {\n",
       "        vertical-align: middle;\n",
       "    }\n",
       "\n",
       "    .dataframe tbody tr th {\n",
       "        vertical-align: top;\n",
       "    }\n",
       "\n",
       "    .dataframe thead th {\n",
       "        text-align: right;\n",
       "    }\n",
       "</style>\n",
       "<table border=\"1\" class=\"dataframe\">\n",
       "  <thead>\n",
       "    <tr style=\"text-align: right;\">\n",
       "      <th></th>\n",
       "      <th>0</th>\n",
       "      <th>1</th>\n",
       "      <th>2</th>\n",
       "      <th>3</th>\n",
       "      <th>4</th>\n",
       "      <th>5</th>\n",
       "      <th>6</th>\n",
       "      <th>7</th>\n",
       "      <th>8</th>\n",
       "      <th>9</th>\n",
       "    </tr>\n",
       "  </thead>\n",
       "  <tbody>\n",
       "    <tr>\n",
       "      <th>a</th>\n",
       "      <td>0.937252</td>\n",
       "      <td>0.156689</td>\n",
       "      <td>0.366112</td>\n",
       "      <td>0.285216</td>\n",
       "      <td>0.729094</td>\n",
       "      <td>0.830461</td>\n",
       "      <td>0.553760</td>\n",
       "      <td>0.958849</td>\n",
       "      <td>0.297625</td>\n",
       "      <td>0.718536</td>\n",
       "    </tr>\n",
       "    <tr>\n",
       "      <th>b</th>\n",
       "      <td>0.083021</td>\n",
       "      <td>0.824694</td>\n",
       "      <td>0.572871</td>\n",
       "      <td>0.708069</td>\n",
       "      <td>0.297348</td>\n",
       "      <td>0.453142</td>\n",
       "      <td>0.164460</td>\n",
       "      <td>0.914746</td>\n",
       "      <td>0.646562</td>\n",
       "      <td>0.067033</td>\n",
       "    </tr>\n",
       "    <tr>\n",
       "      <th>c</th>\n",
       "      <td>0.810242</td>\n",
       "      <td>0.686015</td>\n",
       "      <td>0.639918</td>\n",
       "      <td>0.113881</td>\n",
       "      <td>0.888108</td>\n",
       "      <td>0.257557</td>\n",
       "      <td>0.695439</td>\n",
       "      <td>0.976447</td>\n",
       "      <td>0.601179</td>\n",
       "      <td>0.863197</td>\n",
       "    </tr>\n",
       "    <tr>\n",
       "      <th>d</th>\n",
       "      <td>0.723071</td>\n",
       "      <td>0.503616</td>\n",
       "      <td>0.321218</td>\n",
       "      <td>0.392738</td>\n",
       "      <td>0.541752</td>\n",
       "      <td>0.859486</td>\n",
       "      <td>0.673015</td>\n",
       "      <td>0.952028</td>\n",
       "      <td>0.985588</td>\n",
       "      <td>0.920968</td>\n",
       "    </tr>\n",
       "    <tr>\n",
       "      <th>e</th>\n",
       "      <td>0.220722</td>\n",
       "      <td>0.141588</td>\n",
       "      <td>0.704955</td>\n",
       "      <td>0.358575</td>\n",
       "      <td>0.002077</td>\n",
       "      <td>0.778982</td>\n",
       "      <td>0.947679</td>\n",
       "      <td>0.439319</td>\n",
       "      <td>0.254596</td>\n",
       "      <td>0.129269</td>\n",
       "    </tr>\n",
       "    <tr>\n",
       "      <th>f</th>\n",
       "      <td>0.984037</td>\n",
       "      <td>0.657505</td>\n",
       "      <td>0.958159</td>\n",
       "      <td>0.061203</td>\n",
       "      <td>0.708742</td>\n",
       "      <td>0.838949</td>\n",
       "      <td>0.800627</td>\n",
       "      <td>0.774556</td>\n",
       "      <td>0.527436</td>\n",
       "      <td>0.756548</td>\n",
       "    </tr>\n",
       "    <tr>\n",
       "      <th>g</th>\n",
       "      <td>0.086613</td>\n",
       "      <td>0.542253</td>\n",
       "      <td>0.994536</td>\n",
       "      <td>0.496923</td>\n",
       "      <td>0.910099</td>\n",
       "      <td>0.272961</td>\n",
       "      <td>0.463146</td>\n",
       "      <td>0.378934</td>\n",
       "      <td>0.523892</td>\n",
       "      <td>0.247667</td>\n",
       "    </tr>\n",
       "    <tr>\n",
       "      <th>h</th>\n",
       "      <td>0.134837</td>\n",
       "      <td>0.294107</td>\n",
       "      <td>0.398467</td>\n",
       "      <td>0.846816</td>\n",
       "      <td>0.676715</td>\n",
       "      <td>0.843173</td>\n",
       "      <td>0.853445</td>\n",
       "      <td>0.660116</td>\n",
       "      <td>0.516940</td>\n",
       "      <td>0.065082</td>\n",
       "    </tr>\n",
       "    <tr>\n",
       "      <th>i</th>\n",
       "      <td>0.570926</td>\n",
       "      <td>0.366698</td>\n",
       "      <td>0.010145</td>\n",
       "      <td>0.482407</td>\n",
       "      <td>0.377141</td>\n",
       "      <td>0.767612</td>\n",
       "      <td>0.016847</td>\n",
       "      <td>0.563045</td>\n",
       "      <td>0.514085</td>\n",
       "      <td>0.839394</td>\n",
       "    </tr>\n",
       "    <tr>\n",
       "      <th>j</th>\n",
       "      <td>0.986036</td>\n",
       "      <td>0.292013</td>\n",
       "      <td>0.259032</td>\n",
       "      <td>0.140213</td>\n",
       "      <td>0.166375</td>\n",
       "      <td>0.991998</td>\n",
       "      <td>0.872441</td>\n",
       "      <td>0.608203</td>\n",
       "      <td>0.656434</td>\n",
       "      <td>0.640062</td>\n",
       "    </tr>\n",
       "  </tbody>\n",
       "</table>\n",
       "</div>"
      ],
      "text/plain": [
       "          0         1         2         3         4         5         6  \\\n",
       "a  0.937252  0.156689  0.366112  0.285216  0.729094  0.830461  0.553760   \n",
       "b  0.083021  0.824694  0.572871  0.708069  0.297348  0.453142  0.164460   \n",
       "c  0.810242  0.686015  0.639918  0.113881  0.888108  0.257557  0.695439   \n",
       "d  0.723071  0.503616  0.321218  0.392738  0.541752  0.859486  0.673015   \n",
       "e  0.220722  0.141588  0.704955  0.358575  0.002077  0.778982  0.947679   \n",
       "f  0.984037  0.657505  0.958159  0.061203  0.708742  0.838949  0.800627   \n",
       "g  0.086613  0.542253  0.994536  0.496923  0.910099  0.272961  0.463146   \n",
       "h  0.134837  0.294107  0.398467  0.846816  0.676715  0.843173  0.853445   \n",
       "i  0.570926  0.366698  0.010145  0.482407  0.377141  0.767612  0.016847   \n",
       "j  0.986036  0.292013  0.259032  0.140213  0.166375  0.991998  0.872441   \n",
       "\n",
       "          7         8         9  \n",
       "a  0.958849  0.297625  0.718536  \n",
       "b  0.914746  0.646562  0.067033  \n",
       "c  0.976447  0.601179  0.863197  \n",
       "d  0.952028  0.985588  0.920968  \n",
       "e  0.439319  0.254596  0.129269  \n",
       "f  0.774556  0.527436  0.756548  \n",
       "g  0.378934  0.523892  0.247667  \n",
       "h  0.660116  0.516940  0.065082  \n",
       "i  0.563045  0.514085  0.839394  \n",
       "j  0.608203  0.656434  0.640062  "
      ]
     },
     "execution_count": 51,
     "metadata": {},
     "output_type": "execute_result"
    }
   ],
   "source": [
    "df"
   ]
  },
  {
   "cell_type": "code",
   "execution_count": 52,
   "metadata": {},
   "outputs": [
    {
     "data": {
      "text/plain": [
       "0    0.553676\n",
       "1    0.446518\n",
       "2    0.522541\n",
       "3    0.388604\n",
       "4    0.529745\n",
       "5    0.689432\n",
       "6    0.604086\n",
       "7    0.722624\n",
       "8    0.552434\n",
       "9    0.524776\n",
       "dtype: float64"
      ]
     },
     "execution_count": 52,
     "metadata": {},
     "output_type": "execute_result"
    }
   ],
   "source": [
    "df.mean()"
   ]
  },
  {
   "cell_type": "code",
   "execution_count": 53,
   "metadata": {},
   "outputs": [
    {
     "data": {
      "text/plain": [
       "a    0.583359\n",
       "b    0.473195\n",
       "c    0.653198\n",
       "d    0.687348\n",
       "e    0.397776\n",
       "f    0.706776\n",
       "g    0.491702\n",
       "h    0.528970\n",
       "i    0.450830\n",
       "j    0.561281\n",
       "dtype: float64"
      ]
     },
     "execution_count": 53,
     "metadata": {},
     "output_type": "execute_result"
    }
   ],
   "source": [
    "df.mean(axis=1)"
   ]
  },
  {
   "cell_type": "markdown",
   "metadata": {},
   "source": [
    "### Reading files\n",
    "Most of the time, you will read in tabular data and let Pandas do the work"
   ]
  },
  {
   "cell_type": "code",
   "execution_count": 54,
   "metadata": {},
   "outputs": [],
   "source": [
    "csv_fn = '../01_Shell_Github/data/GLAH14_tllz_conus_lulcfilt_demfilt.csv'"
   ]
  },
  {
   "cell_type": "code",
   "execution_count": 55,
   "metadata": {},
   "outputs": [
    {
     "name": "stdout",
     "output_type": "stream",
     "text": [
      "decyear,ordinal,lat,lon,glas_z,dem_z,dem_z_std,lulc\n",
      "2003.13957078,731266.9433448168,44.157897,-105.356562,1398.51,1400.52,0.33,31\n",
      "2003.13957081,731266.9433462636,44.150175,-105.358116,1387.11,1384.64,0.43,31\n",
      "2003.13957081,731266.9433465529,44.148632,-105.358427,1392.83,1383.49,0.28,31\n",
      "2003.13957081,731266.9433468423,44.147087,-105.358738,1384.24,1382.85,0.84,31\n",
      "2003.13957081,731266.9433471316,44.145542,-105.359048,1369.21,1380.24,1.73,31\n",
      "2003.13957081,731266.9433474210,44.143996,-105.359359,1366.60,1375.23,1.60,31\n",
      "2003.13957081,731266.9433506038,44.126969,-105.362876,1355.14,1379.38,2.17,31\n",
      "2003.13957084,731266.9433604418,44.074358,-105.373549,1369.53,1391.71,2.88,31\n",
      "2003.13957084,731266.9433607311,44.072806,-105.373864,1380.02,1387.79,0.45,31\n"
     ]
    }
   ],
   "source": [
    "!head $csv_fn"
   ]
  },
  {
   "cell_type": "code",
   "execution_count": 56,
   "metadata": {},
   "outputs": [
    {
     "data": {
      "text/html": [
       "<div>\n",
       "<style scoped>\n",
       "    .dataframe tbody tr th:only-of-type {\n",
       "        vertical-align: middle;\n",
       "    }\n",
       "\n",
       "    .dataframe tbody tr th {\n",
       "        vertical-align: top;\n",
       "    }\n",
       "\n",
       "    .dataframe thead th {\n",
       "        text-align: right;\n",
       "    }\n",
       "</style>\n",
       "<table border=\"1\" class=\"dataframe\">\n",
       "  <thead>\n",
       "    <tr style=\"text-align: right;\">\n",
       "      <th></th>\n",
       "      <th>decyear</th>\n",
       "      <th>ordinal</th>\n",
       "      <th>lat</th>\n",
       "      <th>lon</th>\n",
       "      <th>glas_z</th>\n",
       "      <th>dem_z</th>\n",
       "      <th>dem_z_std</th>\n",
       "      <th>lulc</th>\n",
       "    </tr>\n",
       "  </thead>\n",
       "  <tbody>\n",
       "    <tr>\n",
       "      <th>0</th>\n",
       "      <td>2003.139571</td>\n",
       "      <td>731266.943345</td>\n",
       "      <td>44.157897</td>\n",
       "      <td>-105.356562</td>\n",
       "      <td>1398.51</td>\n",
       "      <td>1400.52</td>\n",
       "      <td>0.33</td>\n",
       "      <td>31</td>\n",
       "    </tr>\n",
       "    <tr>\n",
       "      <th>1</th>\n",
       "      <td>2003.139571</td>\n",
       "      <td>731266.943346</td>\n",
       "      <td>44.150175</td>\n",
       "      <td>-105.358116</td>\n",
       "      <td>1387.11</td>\n",
       "      <td>1384.64</td>\n",
       "      <td>0.43</td>\n",
       "      <td>31</td>\n",
       "    </tr>\n",
       "    <tr>\n",
       "      <th>2</th>\n",
       "      <td>2003.139571</td>\n",
       "      <td>731266.943347</td>\n",
       "      <td>44.148632</td>\n",
       "      <td>-105.358427</td>\n",
       "      <td>1392.83</td>\n",
       "      <td>1383.49</td>\n",
       "      <td>0.28</td>\n",
       "      <td>31</td>\n",
       "    </tr>\n",
       "    <tr>\n",
       "      <th>3</th>\n",
       "      <td>2003.139571</td>\n",
       "      <td>731266.943347</td>\n",
       "      <td>44.147087</td>\n",
       "      <td>-105.358738</td>\n",
       "      <td>1384.24</td>\n",
       "      <td>1382.85</td>\n",
       "      <td>0.84</td>\n",
       "      <td>31</td>\n",
       "    </tr>\n",
       "    <tr>\n",
       "      <th>4</th>\n",
       "      <td>2003.139571</td>\n",
       "      <td>731266.943347</td>\n",
       "      <td>44.145542</td>\n",
       "      <td>-105.359048</td>\n",
       "      <td>1369.21</td>\n",
       "      <td>1380.24</td>\n",
       "      <td>1.73</td>\n",
       "      <td>31</td>\n",
       "    </tr>\n",
       "    <tr>\n",
       "      <th>...</th>\n",
       "      <td>...</td>\n",
       "      <td>...</td>\n",
       "      <td>...</td>\n",
       "      <td>...</td>\n",
       "      <td>...</td>\n",
       "      <td>...</td>\n",
       "      <td>...</td>\n",
       "      <td>...</td>\n",
       "    </tr>\n",
       "    <tr>\n",
       "      <th>65231</th>\n",
       "      <td>2009.775995</td>\n",
       "      <td>733691.238340</td>\n",
       "      <td>37.896222</td>\n",
       "      <td>-117.044399</td>\n",
       "      <td>1556.16</td>\n",
       "      <td>1556.43</td>\n",
       "      <td>0.00</td>\n",
       "      <td>31</td>\n",
       "    </tr>\n",
       "    <tr>\n",
       "      <th>65232</th>\n",
       "      <td>2009.775995</td>\n",
       "      <td>733691.238340</td>\n",
       "      <td>37.897769</td>\n",
       "      <td>-117.044675</td>\n",
       "      <td>1556.02</td>\n",
       "      <td>1556.43</td>\n",
       "      <td>0.00</td>\n",
       "      <td>31</td>\n",
       "    </tr>\n",
       "    <tr>\n",
       "      <th>65233</th>\n",
       "      <td>2009.775995</td>\n",
       "      <td>733691.238340</td>\n",
       "      <td>37.899319</td>\n",
       "      <td>-117.044952</td>\n",
       "      <td>1556.19</td>\n",
       "      <td>1556.44</td>\n",
       "      <td>0.00</td>\n",
       "      <td>31</td>\n",
       "    </tr>\n",
       "    <tr>\n",
       "      <th>65234</th>\n",
       "      <td>2009.775995</td>\n",
       "      <td>733691.238340</td>\n",
       "      <td>37.900869</td>\n",
       "      <td>-117.045230</td>\n",
       "      <td>1556.18</td>\n",
       "      <td>1556.44</td>\n",
       "      <td>0.00</td>\n",
       "      <td>31</td>\n",
       "    </tr>\n",
       "    <tr>\n",
       "      <th>65235</th>\n",
       "      <td>2009.775995</td>\n",
       "      <td>733691.238341</td>\n",
       "      <td>37.902420</td>\n",
       "      <td>-117.045508</td>\n",
       "      <td>1556.32</td>\n",
       "      <td>1556.44</td>\n",
       "      <td>0.00</td>\n",
       "      <td>31</td>\n",
       "    </tr>\n",
       "  </tbody>\n",
       "</table>\n",
       "<p>65236 rows × 8 columns</p>\n",
       "</div>"
      ],
      "text/plain": [
       "           decyear        ordinal        lat         lon   glas_z    dem_z  \\\n",
       "0      2003.139571  731266.943345  44.157897 -105.356562  1398.51  1400.52   \n",
       "1      2003.139571  731266.943346  44.150175 -105.358116  1387.11  1384.64   \n",
       "2      2003.139571  731266.943347  44.148632 -105.358427  1392.83  1383.49   \n",
       "3      2003.139571  731266.943347  44.147087 -105.358738  1384.24  1382.85   \n",
       "4      2003.139571  731266.943347  44.145542 -105.359048  1369.21  1380.24   \n",
       "...            ...            ...        ...         ...      ...      ...   \n",
       "65231  2009.775995  733691.238340  37.896222 -117.044399  1556.16  1556.43   \n",
       "65232  2009.775995  733691.238340  37.897769 -117.044675  1556.02  1556.43   \n",
       "65233  2009.775995  733691.238340  37.899319 -117.044952  1556.19  1556.44   \n",
       "65234  2009.775995  733691.238340  37.900869 -117.045230  1556.18  1556.44   \n",
       "65235  2009.775995  733691.238341  37.902420 -117.045508  1556.32  1556.44   \n",
       "\n",
       "       dem_z_std  lulc  \n",
       "0           0.33    31  \n",
       "1           0.43    31  \n",
       "2           0.28    31  \n",
       "3           0.84    31  \n",
       "4           1.73    31  \n",
       "...          ...   ...  \n",
       "65231       0.00    31  \n",
       "65232       0.00    31  \n",
       "65233       0.00    31  \n",
       "65234       0.00    31  \n",
       "65235       0.00    31  \n",
       "\n",
       "[65236 rows x 8 columns]"
      ]
     },
     "execution_count": 56,
     "metadata": {},
     "output_type": "execute_result"
    }
   ],
   "source": [
    "pd.read_csv(csv_fn)"
   ]
  },
  {
   "cell_type": "code",
   "execution_count": 57,
   "metadata": {},
   "outputs": [],
   "source": [
    "glas_df = pd.read_csv(csv_fn)"
   ]
  },
  {
   "cell_type": "code",
   "execution_count": 58,
   "metadata": {},
   "outputs": [],
   "source": [
    "#Multiply index to demonstrate difference between loc and iloc\n",
    "glas_df.set_index(glas_df.index*10, inplace=True)"
   ]
  },
  {
   "cell_type": "code",
   "execution_count": 59,
   "metadata": {},
   "outputs": [
    {
     "data": {
      "text/html": [
       "<div>\n",
       "<style scoped>\n",
       "    .dataframe tbody tr th:only-of-type {\n",
       "        vertical-align: middle;\n",
       "    }\n",
       "\n",
       "    .dataframe tbody tr th {\n",
       "        vertical-align: top;\n",
       "    }\n",
       "\n",
       "    .dataframe thead th {\n",
       "        text-align: right;\n",
       "    }\n",
       "</style>\n",
       "<table border=\"1\" class=\"dataframe\">\n",
       "  <thead>\n",
       "    <tr style=\"text-align: right;\">\n",
       "      <th></th>\n",
       "      <th>decyear</th>\n",
       "      <th>ordinal</th>\n",
       "      <th>lat</th>\n",
       "      <th>lon</th>\n",
       "      <th>glas_z</th>\n",
       "      <th>dem_z</th>\n",
       "      <th>dem_z_std</th>\n",
       "      <th>lulc</th>\n",
       "    </tr>\n",
       "  </thead>\n",
       "  <tbody>\n",
       "    <tr>\n",
       "      <th>0</th>\n",
       "      <td>2003.139571</td>\n",
       "      <td>731266.943345</td>\n",
       "      <td>44.157897</td>\n",
       "      <td>-105.356562</td>\n",
       "      <td>1398.51</td>\n",
       "      <td>1400.52</td>\n",
       "      <td>0.33</td>\n",
       "      <td>31</td>\n",
       "    </tr>\n",
       "    <tr>\n",
       "      <th>10</th>\n",
       "      <td>2003.139571</td>\n",
       "      <td>731266.943346</td>\n",
       "      <td>44.150175</td>\n",
       "      <td>-105.358116</td>\n",
       "      <td>1387.11</td>\n",
       "      <td>1384.64</td>\n",
       "      <td>0.43</td>\n",
       "      <td>31</td>\n",
       "    </tr>\n",
       "    <tr>\n",
       "      <th>20</th>\n",
       "      <td>2003.139571</td>\n",
       "      <td>731266.943347</td>\n",
       "      <td>44.148632</td>\n",
       "      <td>-105.358427</td>\n",
       "      <td>1392.83</td>\n",
       "      <td>1383.49</td>\n",
       "      <td>0.28</td>\n",
       "      <td>31</td>\n",
       "    </tr>\n",
       "    <tr>\n",
       "      <th>30</th>\n",
       "      <td>2003.139571</td>\n",
       "      <td>731266.943347</td>\n",
       "      <td>44.147087</td>\n",
       "      <td>-105.358738</td>\n",
       "      <td>1384.24</td>\n",
       "      <td>1382.85</td>\n",
       "      <td>0.84</td>\n",
       "      <td>31</td>\n",
       "    </tr>\n",
       "    <tr>\n",
       "      <th>40</th>\n",
       "      <td>2003.139571</td>\n",
       "      <td>731266.943347</td>\n",
       "      <td>44.145542</td>\n",
       "      <td>-105.359048</td>\n",
       "      <td>1369.21</td>\n",
       "      <td>1380.24</td>\n",
       "      <td>1.73</td>\n",
       "      <td>31</td>\n",
       "    </tr>\n",
       "    <tr>\n",
       "      <th>...</th>\n",
       "      <td>...</td>\n",
       "      <td>...</td>\n",
       "      <td>...</td>\n",
       "      <td>...</td>\n",
       "      <td>...</td>\n",
       "      <td>...</td>\n",
       "      <td>...</td>\n",
       "      <td>...</td>\n",
       "    </tr>\n",
       "    <tr>\n",
       "      <th>652310</th>\n",
       "      <td>2009.775995</td>\n",
       "      <td>733691.238340</td>\n",
       "      <td>37.896222</td>\n",
       "      <td>-117.044399</td>\n",
       "      <td>1556.16</td>\n",
       "      <td>1556.43</td>\n",
       "      <td>0.00</td>\n",
       "      <td>31</td>\n",
       "    </tr>\n",
       "    <tr>\n",
       "      <th>652320</th>\n",
       "      <td>2009.775995</td>\n",
       "      <td>733691.238340</td>\n",
       "      <td>37.897769</td>\n",
       "      <td>-117.044675</td>\n",
       "      <td>1556.02</td>\n",
       "      <td>1556.43</td>\n",
       "      <td>0.00</td>\n",
       "      <td>31</td>\n",
       "    </tr>\n",
       "    <tr>\n",
       "      <th>652330</th>\n",
       "      <td>2009.775995</td>\n",
       "      <td>733691.238340</td>\n",
       "      <td>37.899319</td>\n",
       "      <td>-117.044952</td>\n",
       "      <td>1556.19</td>\n",
       "      <td>1556.44</td>\n",
       "      <td>0.00</td>\n",
       "      <td>31</td>\n",
       "    </tr>\n",
       "    <tr>\n",
       "      <th>652340</th>\n",
       "      <td>2009.775995</td>\n",
       "      <td>733691.238340</td>\n",
       "      <td>37.900869</td>\n",
       "      <td>-117.045230</td>\n",
       "      <td>1556.18</td>\n",
       "      <td>1556.44</td>\n",
       "      <td>0.00</td>\n",
       "      <td>31</td>\n",
       "    </tr>\n",
       "    <tr>\n",
       "      <th>652350</th>\n",
       "      <td>2009.775995</td>\n",
       "      <td>733691.238341</td>\n",
       "      <td>37.902420</td>\n",
       "      <td>-117.045508</td>\n",
       "      <td>1556.32</td>\n",
       "      <td>1556.44</td>\n",
       "      <td>0.00</td>\n",
       "      <td>31</td>\n",
       "    </tr>\n",
       "  </tbody>\n",
       "</table>\n",
       "<p>65236 rows × 8 columns</p>\n",
       "</div>"
      ],
      "text/plain": [
       "            decyear        ordinal        lat         lon   glas_z    dem_z  \\\n",
       "0       2003.139571  731266.943345  44.157897 -105.356562  1398.51  1400.52   \n",
       "10      2003.139571  731266.943346  44.150175 -105.358116  1387.11  1384.64   \n",
       "20      2003.139571  731266.943347  44.148632 -105.358427  1392.83  1383.49   \n",
       "30      2003.139571  731266.943347  44.147087 -105.358738  1384.24  1382.85   \n",
       "40      2003.139571  731266.943347  44.145542 -105.359048  1369.21  1380.24   \n",
       "...             ...            ...        ...         ...      ...      ...   \n",
       "652310  2009.775995  733691.238340  37.896222 -117.044399  1556.16  1556.43   \n",
       "652320  2009.775995  733691.238340  37.897769 -117.044675  1556.02  1556.43   \n",
       "652330  2009.775995  733691.238340  37.899319 -117.044952  1556.19  1556.44   \n",
       "652340  2009.775995  733691.238340  37.900869 -117.045230  1556.18  1556.44   \n",
       "652350  2009.775995  733691.238341  37.902420 -117.045508  1556.32  1556.44   \n",
       "\n",
       "        dem_z_std  lulc  \n",
       "0            0.33    31  \n",
       "10           0.43    31  \n",
       "20           0.28    31  \n",
       "30           0.84    31  \n",
       "40           1.73    31  \n",
       "...           ...   ...  \n",
       "652310       0.00    31  \n",
       "652320       0.00    31  \n",
       "652330       0.00    31  \n",
       "652340       0.00    31  \n",
       "652350       0.00    31  \n",
       "\n",
       "[65236 rows x 8 columns]"
      ]
     },
     "execution_count": 59,
     "metadata": {},
     "output_type": "execute_result"
    }
   ],
   "source": [
    "glas_df"
   ]
  },
  {
   "cell_type": "code",
   "execution_count": 60,
   "metadata": {},
   "outputs": [
    {
     "data": {
      "text/html": [
       "<div>\n",
       "<style scoped>\n",
       "    .dataframe tbody tr th:only-of-type {\n",
       "        vertical-align: middle;\n",
       "    }\n",
       "\n",
       "    .dataframe tbody tr th {\n",
       "        vertical-align: top;\n",
       "    }\n",
       "\n",
       "    .dataframe thead th {\n",
       "        text-align: right;\n",
       "    }\n",
       "</style>\n",
       "<table border=\"1\" class=\"dataframe\">\n",
       "  <thead>\n",
       "    <tr style=\"text-align: right;\">\n",
       "      <th></th>\n",
       "      <th>decyear</th>\n",
       "      <th>ordinal</th>\n",
       "      <th>lat</th>\n",
       "      <th>lon</th>\n",
       "      <th>glas_z</th>\n",
       "      <th>dem_z</th>\n",
       "      <th>dem_z_std</th>\n",
       "      <th>lulc</th>\n",
       "    </tr>\n",
       "  </thead>\n",
       "  <tbody>\n",
       "    <tr>\n",
       "      <th>count</th>\n",
       "      <td>65236.000000</td>\n",
       "      <td>65236.000000</td>\n",
       "      <td>65236.000000</td>\n",
       "      <td>65236.000000</td>\n",
       "      <td>65236.000000</td>\n",
       "      <td>65236.000000</td>\n",
       "      <td>65236.000000</td>\n",
       "      <td>65236.000000</td>\n",
       "    </tr>\n",
       "    <tr>\n",
       "      <th>mean</th>\n",
       "      <td>2005.945322</td>\n",
       "      <td>732291.890372</td>\n",
       "      <td>40.946798</td>\n",
       "      <td>-115.040612</td>\n",
       "      <td>1791.494167</td>\n",
       "      <td>1792.260964</td>\n",
       "      <td>5.504748</td>\n",
       "      <td>30.339444</td>\n",
       "    </tr>\n",
       "    <tr>\n",
       "      <th>std</th>\n",
       "      <td>1.729573</td>\n",
       "      <td>631.766682</td>\n",
       "      <td>3.590476</td>\n",
       "      <td>5.465065</td>\n",
       "      <td>1037.183482</td>\n",
       "      <td>1037.925371</td>\n",
       "      <td>7.518558</td>\n",
       "      <td>3.480576</td>\n",
       "    </tr>\n",
       "    <tr>\n",
       "      <th>min</th>\n",
       "      <td>2003.139571</td>\n",
       "      <td>731266.943345</td>\n",
       "      <td>34.999455</td>\n",
       "      <td>-124.482406</td>\n",
       "      <td>-115.550000</td>\n",
       "      <td>-114.570000</td>\n",
       "      <td>0.000000</td>\n",
       "      <td>12.000000</td>\n",
       "    </tr>\n",
       "    <tr>\n",
       "      <th>25%</th>\n",
       "      <td>2004.444817</td>\n",
       "      <td>731743.803182</td>\n",
       "      <td>38.101451</td>\n",
       "      <td>-119.257599</td>\n",
       "      <td>1166.970000</td>\n",
       "      <td>1168.240000</td>\n",
       "      <td>0.070000</td>\n",
       "      <td>31.000000</td>\n",
       "    </tr>\n",
       "    <tr>\n",
       "      <th>50%</th>\n",
       "      <td>2005.846896</td>\n",
       "      <td>732256.116938</td>\n",
       "      <td>39.884541</td>\n",
       "      <td>-115.686241</td>\n",
       "      <td>1555.730000</td>\n",
       "      <td>1556.380000</td>\n",
       "      <td>1.350000</td>\n",
       "      <td>31.000000</td>\n",
       "    </tr>\n",
       "    <tr>\n",
       "      <th>75%</th>\n",
       "      <td>2007.223249</td>\n",
       "      <td>732758.486046</td>\n",
       "      <td>43.453565</td>\n",
       "      <td>-109.816475</td>\n",
       "      <td>2399.355000</td>\n",
       "      <td>2400.072500</td>\n",
       "      <td>9.530000</td>\n",
       "      <td>31.000000</td>\n",
       "    </tr>\n",
       "    <tr>\n",
       "      <th>max</th>\n",
       "      <td>2009.775995</td>\n",
       "      <td>733691.238341</td>\n",
       "      <td>48.999727</td>\n",
       "      <td>-104.052336</td>\n",
       "      <td>4340.310000</td>\n",
       "      <td>4252.940000</td>\n",
       "      <td>49.900000</td>\n",
       "      <td>31.000000</td>\n",
       "    </tr>\n",
       "  </tbody>\n",
       "</table>\n",
       "</div>"
      ],
      "text/plain": [
       "            decyear        ordinal           lat           lon        glas_z  \\\n",
       "count  65236.000000   65236.000000  65236.000000  65236.000000  65236.000000   \n",
       "mean    2005.945322  732291.890372     40.946798   -115.040612   1791.494167   \n",
       "std        1.729573     631.766682      3.590476      5.465065   1037.183482   \n",
       "min     2003.139571  731266.943345     34.999455   -124.482406   -115.550000   \n",
       "25%     2004.444817  731743.803182     38.101451   -119.257599   1166.970000   \n",
       "50%     2005.846896  732256.116938     39.884541   -115.686241   1555.730000   \n",
       "75%     2007.223249  732758.486046     43.453565   -109.816475   2399.355000   \n",
       "max     2009.775995  733691.238341     48.999727   -104.052336   4340.310000   \n",
       "\n",
       "              dem_z     dem_z_std          lulc  \n",
       "count  65236.000000  65236.000000  65236.000000  \n",
       "mean    1792.260964      5.504748     30.339444  \n",
       "std     1037.925371      7.518558      3.480576  \n",
       "min     -114.570000      0.000000     12.000000  \n",
       "25%     1168.240000      0.070000     31.000000  \n",
       "50%     1556.380000      1.350000     31.000000  \n",
       "75%     2400.072500      9.530000     31.000000  \n",
       "max     4252.940000     49.900000     31.000000  "
      ]
     },
     "execution_count": 60,
     "metadata": {},
     "output_type": "execute_result"
    }
   ],
   "source": [
    "glas_df.describe()"
   ]
  },
  {
   "cell_type": "markdown",
   "metadata": {},
   "source": [
    "### Indexing and selecting"
   ]
  },
  {
   "cell_type": "code",
   "execution_count": 61,
   "metadata": {},
   "outputs": [
    {
     "data": {
      "text/plain": [
       "decyear        2003.139571\n",
       "ordinal      731266.943345\n",
       "lat              44.157897\n",
       "lon            -105.356562\n",
       "glas_z         1398.510000\n",
       "dem_z          1400.520000\n",
       "dem_z_std         0.330000\n",
       "lulc             31.000000\n",
       "Name: 0, dtype: float64"
      ]
     },
     "execution_count": 61,
     "metadata": {},
     "output_type": "execute_result"
    }
   ],
   "source": [
    "glas_df.loc[0]"
   ]
  },
  {
   "cell_type": "code",
   "execution_count": 62,
   "metadata": {},
   "outputs": [
    {
     "data": {
      "text/plain": [
       "decyear        2003.139571\n",
       "ordinal      731266.943345\n",
       "lat              44.157897\n",
       "lon            -105.356562\n",
       "glas_z         1398.510000\n",
       "dem_z          1400.520000\n",
       "dem_z_std         0.330000\n",
       "lulc             31.000000\n",
       "Name: 0, dtype: float64"
      ]
     },
     "execution_count": 62,
     "metadata": {},
     "output_type": "execute_result"
    }
   ],
   "source": [
    "glas_df.iloc[0]"
   ]
  },
  {
   "cell_type": "code",
   "execution_count": 63,
   "metadata": {},
   "outputs": [
    {
     "data": {
      "text/html": [
       "<div>\n",
       "<style scoped>\n",
       "    .dataframe tbody tr th:only-of-type {\n",
       "        vertical-align: middle;\n",
       "    }\n",
       "\n",
       "    .dataframe tbody tr th {\n",
       "        vertical-align: top;\n",
       "    }\n",
       "\n",
       "    .dataframe thead th {\n",
       "        text-align: right;\n",
       "    }\n",
       "</style>\n",
       "<table border=\"1\" class=\"dataframe\">\n",
       "  <thead>\n",
       "    <tr style=\"text-align: right;\">\n",
       "      <th></th>\n",
       "      <th>decyear</th>\n",
       "      <th>ordinal</th>\n",
       "      <th>lat</th>\n",
       "      <th>lon</th>\n",
       "      <th>glas_z</th>\n",
       "      <th>dem_z</th>\n",
       "      <th>dem_z_std</th>\n",
       "      <th>lulc</th>\n",
       "    </tr>\n",
       "  </thead>\n",
       "  <tbody>\n",
       "    <tr>\n",
       "      <th>0</th>\n",
       "      <td>2003.139571</td>\n",
       "      <td>731266.943345</td>\n",
       "      <td>44.157897</td>\n",
       "      <td>-105.356562</td>\n",
       "      <td>1398.51</td>\n",
       "      <td>1400.52</td>\n",
       "      <td>0.33</td>\n",
       "      <td>31</td>\n",
       "    </tr>\n",
       "    <tr>\n",
       "      <th>10</th>\n",
       "      <td>2003.139571</td>\n",
       "      <td>731266.943346</td>\n",
       "      <td>44.150175</td>\n",
       "      <td>-105.358116</td>\n",
       "      <td>1387.11</td>\n",
       "      <td>1384.64</td>\n",
       "      <td>0.43</td>\n",
       "      <td>31</td>\n",
       "    </tr>\n",
       "  </tbody>\n",
       "</table>\n",
       "</div>"
      ],
      "text/plain": [
       "        decyear        ordinal        lat         lon   glas_z    dem_z  \\\n",
       "0   2003.139571  731266.943345  44.157897 -105.356562  1398.51  1400.52   \n",
       "10  2003.139571  731266.943346  44.150175 -105.358116  1387.11  1384.64   \n",
       "\n",
       "    dem_z_std  lulc  \n",
       "0        0.33    31  \n",
       "10       0.43    31  "
      ]
     },
     "execution_count": 63,
     "metadata": {},
     "output_type": "execute_result"
    }
   ],
   "source": [
    "glas_df.loc[0:10]"
   ]
  },
  {
   "cell_type": "code",
   "execution_count": 64,
   "metadata": {},
   "outputs": [
    {
     "data": {
      "text/html": [
       "<div>\n",
       "<style scoped>\n",
       "    .dataframe tbody tr th:only-of-type {\n",
       "        vertical-align: middle;\n",
       "    }\n",
       "\n",
       "    .dataframe tbody tr th {\n",
       "        vertical-align: top;\n",
       "    }\n",
       "\n",
       "    .dataframe thead th {\n",
       "        text-align: right;\n",
       "    }\n",
       "</style>\n",
       "<table border=\"1\" class=\"dataframe\">\n",
       "  <thead>\n",
       "    <tr style=\"text-align: right;\">\n",
       "      <th></th>\n",
       "      <th>decyear</th>\n",
       "      <th>ordinal</th>\n",
       "      <th>lat</th>\n",
       "      <th>lon</th>\n",
       "      <th>glas_z</th>\n",
       "      <th>dem_z</th>\n",
       "      <th>dem_z_std</th>\n",
       "      <th>lulc</th>\n",
       "    </tr>\n",
       "  </thead>\n",
       "  <tbody>\n",
       "    <tr>\n",
       "      <th>0</th>\n",
       "      <td>2003.139571</td>\n",
       "      <td>731266.943345</td>\n",
       "      <td>44.157897</td>\n",
       "      <td>-105.356562</td>\n",
       "      <td>1398.51</td>\n",
       "      <td>1400.52</td>\n",
       "      <td>0.33</td>\n",
       "      <td>31</td>\n",
       "    </tr>\n",
       "    <tr>\n",
       "      <th>10</th>\n",
       "      <td>2003.139571</td>\n",
       "      <td>731266.943346</td>\n",
       "      <td>44.150175</td>\n",
       "      <td>-105.358116</td>\n",
       "      <td>1387.11</td>\n",
       "      <td>1384.64</td>\n",
       "      <td>0.43</td>\n",
       "      <td>31</td>\n",
       "    </tr>\n",
       "    <tr>\n",
       "      <th>20</th>\n",
       "      <td>2003.139571</td>\n",
       "      <td>731266.943347</td>\n",
       "      <td>44.148632</td>\n",
       "      <td>-105.358427</td>\n",
       "      <td>1392.83</td>\n",
       "      <td>1383.49</td>\n",
       "      <td>0.28</td>\n",
       "      <td>31</td>\n",
       "    </tr>\n",
       "    <tr>\n",
       "      <th>30</th>\n",
       "      <td>2003.139571</td>\n",
       "      <td>731266.943347</td>\n",
       "      <td>44.147087</td>\n",
       "      <td>-105.358738</td>\n",
       "      <td>1384.24</td>\n",
       "      <td>1382.85</td>\n",
       "      <td>0.84</td>\n",
       "      <td>31</td>\n",
       "    </tr>\n",
       "    <tr>\n",
       "      <th>40</th>\n",
       "      <td>2003.139571</td>\n",
       "      <td>731266.943347</td>\n",
       "      <td>44.145542</td>\n",
       "      <td>-105.359048</td>\n",
       "      <td>1369.21</td>\n",
       "      <td>1380.24</td>\n",
       "      <td>1.73</td>\n",
       "      <td>31</td>\n",
       "    </tr>\n",
       "    <tr>\n",
       "      <th>50</th>\n",
       "      <td>2003.139571</td>\n",
       "      <td>731266.943347</td>\n",
       "      <td>44.143996</td>\n",
       "      <td>-105.359359</td>\n",
       "      <td>1366.60</td>\n",
       "      <td>1375.23</td>\n",
       "      <td>1.60</td>\n",
       "      <td>31</td>\n",
       "    </tr>\n",
       "    <tr>\n",
       "      <th>60</th>\n",
       "      <td>2003.139571</td>\n",
       "      <td>731266.943351</td>\n",
       "      <td>44.126969</td>\n",
       "      <td>-105.362876</td>\n",
       "      <td>1355.14</td>\n",
       "      <td>1379.38</td>\n",
       "      <td>2.17</td>\n",
       "      <td>31</td>\n",
       "    </tr>\n",
       "    <tr>\n",
       "      <th>70</th>\n",
       "      <td>2003.139571</td>\n",
       "      <td>731266.943360</td>\n",
       "      <td>44.074358</td>\n",
       "      <td>-105.373549</td>\n",
       "      <td>1369.53</td>\n",
       "      <td>1391.71</td>\n",
       "      <td>2.88</td>\n",
       "      <td>31</td>\n",
       "    </tr>\n",
       "    <tr>\n",
       "      <th>80</th>\n",
       "      <td>2003.139571</td>\n",
       "      <td>731266.943361</td>\n",
       "      <td>44.072806</td>\n",
       "      <td>-105.373864</td>\n",
       "      <td>1380.02</td>\n",
       "      <td>1387.79</td>\n",
       "      <td>0.45</td>\n",
       "      <td>31</td>\n",
       "    </tr>\n",
       "    <tr>\n",
       "      <th>90</th>\n",
       "      <td>2003.139571</td>\n",
       "      <td>731266.943361</td>\n",
       "      <td>44.071256</td>\n",
       "      <td>-105.374177</td>\n",
       "      <td>1391.47</td>\n",
       "      <td>1396.90</td>\n",
       "      <td>1.56</td>\n",
       "      <td>31</td>\n",
       "    </tr>\n",
       "  </tbody>\n",
       "</table>\n",
       "</div>"
      ],
      "text/plain": [
       "        decyear        ordinal        lat         lon   glas_z    dem_z  \\\n",
       "0   2003.139571  731266.943345  44.157897 -105.356562  1398.51  1400.52   \n",
       "10  2003.139571  731266.943346  44.150175 -105.358116  1387.11  1384.64   \n",
       "20  2003.139571  731266.943347  44.148632 -105.358427  1392.83  1383.49   \n",
       "30  2003.139571  731266.943347  44.147087 -105.358738  1384.24  1382.85   \n",
       "40  2003.139571  731266.943347  44.145542 -105.359048  1369.21  1380.24   \n",
       "50  2003.139571  731266.943347  44.143996 -105.359359  1366.60  1375.23   \n",
       "60  2003.139571  731266.943351  44.126969 -105.362876  1355.14  1379.38   \n",
       "70  2003.139571  731266.943360  44.074358 -105.373549  1369.53  1391.71   \n",
       "80  2003.139571  731266.943361  44.072806 -105.373864  1380.02  1387.79   \n",
       "90  2003.139571  731266.943361  44.071256 -105.374177  1391.47  1396.90   \n",
       "\n",
       "    dem_z_std  lulc  \n",
       "0        0.33    31  \n",
       "10       0.43    31  \n",
       "20       0.28    31  \n",
       "30       0.84    31  \n",
       "40       1.73    31  \n",
       "50       1.60    31  \n",
       "60       2.17    31  \n",
       "70       2.88    31  \n",
       "80       0.45    31  \n",
       "90       1.56    31  "
      ]
     },
     "execution_count": 64,
     "metadata": {},
     "output_type": "execute_result"
    }
   ],
   "source": [
    "glas_df.iloc[0:10]"
   ]
  },
  {
   "cell_type": "code",
   "execution_count": 65,
   "metadata": {},
   "outputs": [
    {
     "data": {
      "text/plain": [
       "RangeIndex(start=0, stop=652360, step=10)"
      ]
     },
     "execution_count": 65,
     "metadata": {},
     "output_type": "execute_result"
    }
   ],
   "source": [
    "glas_df.index"
   ]
  },
  {
   "cell_type": "code",
   "execution_count": 66,
   "metadata": {},
   "outputs": [
    {
     "data": {
      "text/plain": [
       "array([[2.00313957e+03, 7.31266943e+05, 4.41578970e+01, ...,\n",
       "        1.40052000e+03, 3.30000000e-01, 3.10000000e+01],\n",
       "       [2.00313957e+03, 7.31266943e+05, 4.41501750e+01, ...,\n",
       "        1.38464000e+03, 4.30000000e-01, 3.10000000e+01],\n",
       "       [2.00313957e+03, 7.31266943e+05, 4.41486320e+01, ...,\n",
       "        1.38349000e+03, 2.80000000e-01, 3.10000000e+01],\n",
       "       ...,\n",
       "       [2.00977600e+03, 7.33691238e+05, 3.78993190e+01, ...,\n",
       "        1.55644000e+03, 0.00000000e+00, 3.10000000e+01],\n",
       "       [2.00977600e+03, 7.33691238e+05, 3.79008690e+01, ...,\n",
       "        1.55644000e+03, 0.00000000e+00, 3.10000000e+01],\n",
       "       [2.00977600e+03, 7.33691238e+05, 3.79024200e+01, ...,\n",
       "        1.55644000e+03, 0.00000000e+00, 3.10000000e+01]])"
      ]
     },
     "execution_count": 66,
     "metadata": {},
     "output_type": "execute_result"
    }
   ],
   "source": [
    "glas_df.values"
   ]
  },
  {
   "cell_type": "code",
   "execution_count": 67,
   "metadata": {},
   "outputs": [
    {
     "data": {
      "text/plain": [
       "Index(['decyear', 'ordinal', 'lat', 'lon', 'glas_z', 'dem_z', 'dem_z_std',\n",
       "       'lulc'],\n",
       "      dtype='object')"
      ]
     },
     "execution_count": 67,
     "metadata": {},
     "output_type": "execute_result"
    }
   ],
   "source": [
    "glas_df.columns"
   ]
  },
  {
   "cell_type": "code",
   "execution_count": 68,
   "metadata": {},
   "outputs": [
    {
     "data": {
      "text/plain": [
       "0         1398.51\n",
       "10        1387.11\n",
       "20        1392.83\n",
       "30        1384.24\n",
       "40        1369.21\n",
       "           ...   \n",
       "652310    1556.16\n",
       "652320    1556.02\n",
       "652330    1556.19\n",
       "652340    1556.18\n",
       "652350    1556.32\n",
       "Name: glas_z, Length: 65236, dtype: float64"
      ]
     },
     "execution_count": 68,
     "metadata": {},
     "output_type": "execute_result"
    }
   ],
   "source": [
    "glas_df['glas_z']"
   ]
  },
  {
   "cell_type": "code",
   "execution_count": 69,
   "metadata": {},
   "outputs": [
    {
     "data": {
      "text/plain": [
       "0         1398.51\n",
       "10        1387.11\n",
       "20        1392.83\n",
       "30        1384.24\n",
       "40        1369.21\n",
       "           ...   \n",
       "652310    1556.16\n",
       "652320    1556.02\n",
       "652330    1556.19\n",
       "652340    1556.18\n",
       "652350    1556.32\n",
       "Name: glas_z, Length: 65236, dtype: float64"
      ]
     },
     "execution_count": 69,
     "metadata": {},
     "output_type": "execute_result"
    }
   ],
   "source": [
    "glas_df.glas_z"
   ]
  },
  {
   "cell_type": "code",
   "execution_count": 70,
   "metadata": {},
   "outputs": [
    {
     "data": {
      "text/plain": [
       "0         1398.51\n",
       "10        1387.11\n",
       "20        1392.83\n",
       "30        1384.24\n",
       "40        1369.21\n",
       "           ...   \n",
       "652310    1556.16\n",
       "652320    1556.02\n",
       "652330    1556.19\n",
       "652340    1556.18\n",
       "652350    1556.32\n",
       "Name: glas_z, Length: 65236, dtype: float64"
      ]
     },
     "execution_count": 70,
     "metadata": {},
     "output_type": "execute_result"
    }
   ],
   "source": [
    "glas_df.iloc[:,4]"
   ]
  },
  {
   "cell_type": "code",
   "execution_count": 71,
   "metadata": {},
   "outputs": [
    {
     "data": {
      "text/plain": [
       "0         1398.51\n",
       "10        1387.11\n",
       "20        1392.83\n",
       "30        1384.24\n",
       "40        1369.21\n",
       "           ...   \n",
       "652310    1556.16\n",
       "652320    1556.02\n",
       "652330    1556.19\n",
       "652340    1556.18\n",
       "652350    1556.32\n",
       "Name: glas_z, Length: 65236, dtype: float64"
      ]
     },
     "execution_count": 71,
     "metadata": {},
     "output_type": "execute_result"
    }
   ],
   "source": [
    "glas_df.loc[:,'glas_z']"
   ]
  },
  {
   "cell_type": "code",
   "execution_count": 72,
   "metadata": {},
   "outputs": [],
   "source": [
    "idx2 = (glas_df['lulc'] == 12)"
   ]
  },
  {
   "cell_type": "code",
   "execution_count": 73,
   "metadata": {},
   "outputs": [
    {
     "data": {
      "text/plain": [
       "(65236, 8)"
      ]
     },
     "execution_count": 73,
     "metadata": {},
     "output_type": "execute_result"
    }
   ],
   "source": [
    "glas_df.shape"
   ]
  },
  {
   "cell_type": "code",
   "execution_count": 74,
   "metadata": {},
   "outputs": [
    {
     "data": {
      "text/html": [
       "<div>\n",
       "<style scoped>\n",
       "    .dataframe tbody tr th:only-of-type {\n",
       "        vertical-align: middle;\n",
       "    }\n",
       "\n",
       "    .dataframe tbody tr th {\n",
       "        vertical-align: top;\n",
       "    }\n",
       "\n",
       "    .dataframe thead th {\n",
       "        text-align: right;\n",
       "    }\n",
       "</style>\n",
       "<table border=\"1\" class=\"dataframe\">\n",
       "  <thead>\n",
       "    <tr style=\"text-align: right;\">\n",
       "      <th></th>\n",
       "      <th>decyear</th>\n",
       "      <th>ordinal</th>\n",
       "      <th>lat</th>\n",
       "      <th>lon</th>\n",
       "      <th>glas_z</th>\n",
       "      <th>dem_z</th>\n",
       "      <th>dem_z_std</th>\n",
       "      <th>lulc</th>\n",
       "    </tr>\n",
       "  </thead>\n",
       "  <tbody>\n",
       "    <tr>\n",
       "      <th>230</th>\n",
       "      <td>2003.139573</td>\n",
       "      <td>731266.944184</td>\n",
       "      <td>39.669291</td>\n",
       "      <td>-106.225142</td>\n",
       "      <td>3505.12</td>\n",
       "      <td>3508.25</td>\n",
       "      <td>5.74</td>\n",
       "      <td>12</td>\n",
       "    </tr>\n",
       "    <tr>\n",
       "      <th>300</th>\n",
       "      <td>2003.139573</td>\n",
       "      <td>731266.944316</td>\n",
       "      <td>38.961190</td>\n",
       "      <td>-106.355153</td>\n",
       "      <td>4046.47</td>\n",
       "      <td>4047.25</td>\n",
       "      <td>7.14</td>\n",
       "      <td>12</td>\n",
       "    </tr>\n",
       "    <tr>\n",
       "      <th>4890</th>\n",
       "      <td>2003.147846</td>\n",
       "      <td>731269.963718</td>\n",
       "      <td>48.587233</td>\n",
       "      <td>-113.484046</td>\n",
       "      <td>2135.76</td>\n",
       "      <td>2123.37</td>\n",
       "      <td>1.18</td>\n",
       "      <td>12</td>\n",
       "    </tr>\n",
       "    <tr>\n",
       "      <th>4920</th>\n",
       "      <td>2003.147846</td>\n",
       "      <td>731269.963811</td>\n",
       "      <td>48.091352</td>\n",
       "      <td>-113.595790</td>\n",
       "      <td>1632.52</td>\n",
       "      <td>1615.77</td>\n",
       "      <td>11.43</td>\n",
       "      <td>12</td>\n",
       "    </tr>\n",
       "    <tr>\n",
       "      <th>7560</th>\n",
       "      <td>2003.157366</td>\n",
       "      <td>731273.438572</td>\n",
       "      <td>43.897412</td>\n",
       "      <td>-114.457131</td>\n",
       "      <td>2886.39</td>\n",
       "      <td>2889.82</td>\n",
       "      <td>20.31</td>\n",
       "      <td>12</td>\n",
       "    </tr>\n",
       "    <tr>\n",
       "      <th>...</th>\n",
       "      <td>...</td>\n",
       "      <td>...</td>\n",
       "      <td>...</td>\n",
       "      <td>...</td>\n",
       "      <td>...</td>\n",
       "      <td>...</td>\n",
       "      <td>...</td>\n",
       "      <td>...</td>\n",
       "    </tr>\n",
       "    <tr>\n",
       "      <th>647240</th>\n",
       "      <td>2009.764964</td>\n",
       "      <td>733687.211708</td>\n",
       "      <td>40.689722</td>\n",
       "      <td>-105.918309</td>\n",
       "      <td>3267.33</td>\n",
       "      <td>3267.62</td>\n",
       "      <td>1.83</td>\n",
       "      <td>12</td>\n",
       "    </tr>\n",
       "    <tr>\n",
       "      <th>647250</th>\n",
       "      <td>2009.764964</td>\n",
       "      <td>733687.211709</td>\n",
       "      <td>40.694371</td>\n",
       "      <td>-105.919164</td>\n",
       "      <td>3235.77</td>\n",
       "      <td>3238.94</td>\n",
       "      <td>3.78</td>\n",
       "      <td>12</td>\n",
       "    </tr>\n",
       "    <tr>\n",
       "      <th>649830</th>\n",
       "      <td>2009.771998</td>\n",
       "      <td>733689.779258</td>\n",
       "      <td>47.910365</td>\n",
       "      <td>-123.628017</td>\n",
       "      <td>1671.86</td>\n",
       "      <td>1711.73</td>\n",
       "      <td>8.44</td>\n",
       "      <td>12</td>\n",
       "    </tr>\n",
       "    <tr>\n",
       "      <th>649840</th>\n",
       "      <td>2009.771998</td>\n",
       "      <td>733689.779258</td>\n",
       "      <td>47.908820</td>\n",
       "      <td>-123.628357</td>\n",
       "      <td>1737.70</td>\n",
       "      <td>1776.17</td>\n",
       "      <td>7.70</td>\n",
       "      <td>12</td>\n",
       "    </tr>\n",
       "    <tr>\n",
       "      <th>649850</th>\n",
       "      <td>2009.771998</td>\n",
       "      <td>733689.779258</td>\n",
       "      <td>47.907275</td>\n",
       "      <td>-123.628697</td>\n",
       "      <td>1782.52</td>\n",
       "      <td>1828.93</td>\n",
       "      <td>4.41</td>\n",
       "      <td>12</td>\n",
       "    </tr>\n",
       "  </tbody>\n",
       "</table>\n",
       "<p>2268 rows × 8 columns</p>\n",
       "</div>"
      ],
      "text/plain": [
       "            decyear        ordinal        lat         lon   glas_z    dem_z  \\\n",
       "230     2003.139573  731266.944184  39.669291 -106.225142  3505.12  3508.25   \n",
       "300     2003.139573  731266.944316  38.961190 -106.355153  4046.47  4047.25   \n",
       "4890    2003.147846  731269.963718  48.587233 -113.484046  2135.76  2123.37   \n",
       "4920    2003.147846  731269.963811  48.091352 -113.595790  1632.52  1615.77   \n",
       "7560    2003.157366  731273.438572  43.897412 -114.457131  2886.39  2889.82   \n",
       "...             ...            ...        ...         ...      ...      ...   \n",
       "647240  2009.764964  733687.211708  40.689722 -105.918309  3267.33  3267.62   \n",
       "647250  2009.764964  733687.211709  40.694371 -105.919164  3235.77  3238.94   \n",
       "649830  2009.771998  733689.779258  47.910365 -123.628017  1671.86  1711.73   \n",
       "649840  2009.771998  733689.779258  47.908820 -123.628357  1737.70  1776.17   \n",
       "649850  2009.771998  733689.779258  47.907275 -123.628697  1782.52  1828.93   \n",
       "\n",
       "        dem_z_std  lulc  \n",
       "230          5.74    12  \n",
       "300          7.14    12  \n",
       "4890         1.18    12  \n",
       "4920        11.43    12  \n",
       "7560        20.31    12  \n",
       "...           ...   ...  \n",
       "647240       1.83    12  \n",
       "647250       3.78    12  \n",
       "649830       8.44    12  \n",
       "649840       7.70    12  \n",
       "649850       4.41    12  \n",
       "\n",
       "[2268 rows x 8 columns]"
      ]
     },
     "execution_count": 74,
     "metadata": {},
     "output_type": "execute_result"
    }
   ],
   "source": [
    "glas_df[idx2]"
   ]
  },
  {
   "cell_type": "code",
   "execution_count": 75,
   "metadata": {},
   "outputs": [
    {
     "data": {
      "text/plain": [
       "(2268, 8)"
      ]
     },
     "execution_count": 75,
     "metadata": {},
     "output_type": "execute_result"
    }
   ],
   "source": [
    "glas_df[idx2].shape"
   ]
  },
  {
   "cell_type": "code",
   "execution_count": 76,
   "metadata": {},
   "outputs": [
    {
     "data": {
      "text/plain": [
       "decyear        2006.008627\n",
       "ordinal      732315.035881\n",
       "lat              43.065223\n",
       "lon            -112.936499\n",
       "glas_z         2918.746261\n",
       "dem_z          2920.785754\n",
       "dem_z_std         9.719951\n",
       "lulc             12.000000\n",
       "dtype: float64"
      ]
     },
     "execution_count": 76,
     "metadata": {},
     "output_type": "execute_result"
    }
   ],
   "source": [
    "glas_df[idx2].mean()"
   ]
  },
  {
   "cell_type": "code",
   "execution_count": 77,
   "metadata": {},
   "outputs": [
    {
     "data": {
      "text/plain": [
       "<pandas.core.groupby.generic.DataFrameGroupBy object at 0x7f62bffe0d60>"
      ]
     },
     "execution_count": 77,
     "metadata": {},
     "output_type": "execute_result"
    }
   ],
   "source": [
    "glas_df.groupby('lulc')"
   ]
  },
  {
   "cell_type": "code",
   "execution_count": 78,
   "metadata": {},
   "outputs": [
    {
     "data": {
      "text/html": [
       "<div>\n",
       "<style scoped>\n",
       "    .dataframe tbody tr th:only-of-type {\n",
       "        vertical-align: middle;\n",
       "    }\n",
       "\n",
       "    .dataframe tbody tr th {\n",
       "        vertical-align: top;\n",
       "    }\n",
       "\n",
       "    .dataframe thead th {\n",
       "        text-align: right;\n",
       "    }\n",
       "</style>\n",
       "<table border=\"1\" class=\"dataframe\">\n",
       "  <thead>\n",
       "    <tr style=\"text-align: right;\">\n",
       "      <th></th>\n",
       "      <th>decyear</th>\n",
       "      <th>ordinal</th>\n",
       "      <th>lat</th>\n",
       "      <th>lon</th>\n",
       "      <th>glas_z</th>\n",
       "      <th>dem_z</th>\n",
       "      <th>dem_z_std</th>\n",
       "    </tr>\n",
       "    <tr>\n",
       "      <th>lulc</th>\n",
       "      <th></th>\n",
       "      <th></th>\n",
       "      <th></th>\n",
       "      <th></th>\n",
       "      <th></th>\n",
       "      <th></th>\n",
       "      <th></th>\n",
       "    </tr>\n",
       "  </thead>\n",
       "  <tbody>\n",
       "    <tr>\n",
       "      <th>12</th>\n",
       "      <td>2006.008627</td>\n",
       "      <td>732315.035881</td>\n",
       "      <td>43.065223</td>\n",
       "      <td>-112.936499</td>\n",
       "      <td>2918.746261</td>\n",
       "      <td>2920.785754</td>\n",
       "      <td>9.719951</td>\n",
       "    </tr>\n",
       "    <tr>\n",
       "      <th>31</th>\n",
       "      <td>2005.943042</td>\n",
       "      <td>732291.056710</td>\n",
       "      <td>40.870496</td>\n",
       "      <td>-115.116398</td>\n",
       "      <td>1750.892469</td>\n",
       "      <td>1751.613426</td>\n",
       "      <td>5.352924</td>\n",
       "    </tr>\n",
       "  </tbody>\n",
       "</table>\n",
       "</div>"
      ],
      "text/plain": [
       "          decyear        ordinal        lat         lon       glas_z  \\\n",
       "lulc                                                                   \n",
       "12    2006.008627  732315.035881  43.065223 -112.936499  2918.746261   \n",
       "31    2005.943042  732291.056710  40.870496 -115.116398  1750.892469   \n",
       "\n",
       "            dem_z  dem_z_std  \n",
       "lulc                          \n",
       "12    2920.785754   9.719951  \n",
       "31    1751.613426   5.352924  "
      ]
     },
     "execution_count": 78,
     "metadata": {},
     "output_type": "execute_result"
    }
   ],
   "source": [
    "glas_df.groupby('lulc').mean()"
   ]
  },
  {
   "cell_type": "code",
   "execution_count": 79,
   "metadata": {},
   "outputs": [],
   "source": [
    "import seaborn as sns\n",
    "planets = sns.load_dataset('planets')"
   ]
  },
  {
   "cell_type": "code",
   "execution_count": 80,
   "metadata": {},
   "outputs": [
    {
     "data": {
      "text/html": [
       "<div>\n",
       "<style scoped>\n",
       "    .dataframe tbody tr th:only-of-type {\n",
       "        vertical-align: middle;\n",
       "    }\n",
       "\n",
       "    .dataframe tbody tr th {\n",
       "        vertical-align: top;\n",
       "    }\n",
       "\n",
       "    .dataframe thead th {\n",
       "        text-align: right;\n",
       "    }\n",
       "</style>\n",
       "<table border=\"1\" class=\"dataframe\">\n",
       "  <thead>\n",
       "    <tr style=\"text-align: right;\">\n",
       "      <th></th>\n",
       "      <th>method</th>\n",
       "      <th>number</th>\n",
       "      <th>orbital_period</th>\n",
       "      <th>mass</th>\n",
       "      <th>distance</th>\n",
       "      <th>year</th>\n",
       "    </tr>\n",
       "  </thead>\n",
       "  <tbody>\n",
       "    <tr>\n",
       "      <th>0</th>\n",
       "      <td>Radial Velocity</td>\n",
       "      <td>1</td>\n",
       "      <td>269.300000</td>\n",
       "      <td>7.10</td>\n",
       "      <td>77.40</td>\n",
       "      <td>2006</td>\n",
       "    </tr>\n",
       "    <tr>\n",
       "      <th>1</th>\n",
       "      <td>Radial Velocity</td>\n",
       "      <td>1</td>\n",
       "      <td>874.774000</td>\n",
       "      <td>2.21</td>\n",
       "      <td>56.95</td>\n",
       "      <td>2008</td>\n",
       "    </tr>\n",
       "    <tr>\n",
       "      <th>2</th>\n",
       "      <td>Radial Velocity</td>\n",
       "      <td>1</td>\n",
       "      <td>763.000000</td>\n",
       "      <td>2.60</td>\n",
       "      <td>19.84</td>\n",
       "      <td>2011</td>\n",
       "    </tr>\n",
       "    <tr>\n",
       "      <th>3</th>\n",
       "      <td>Radial Velocity</td>\n",
       "      <td>1</td>\n",
       "      <td>326.030000</td>\n",
       "      <td>19.40</td>\n",
       "      <td>110.62</td>\n",
       "      <td>2007</td>\n",
       "    </tr>\n",
       "    <tr>\n",
       "      <th>4</th>\n",
       "      <td>Radial Velocity</td>\n",
       "      <td>1</td>\n",
       "      <td>516.220000</td>\n",
       "      <td>10.50</td>\n",
       "      <td>119.47</td>\n",
       "      <td>2009</td>\n",
       "    </tr>\n",
       "    <tr>\n",
       "      <th>...</th>\n",
       "      <td>...</td>\n",
       "      <td>...</td>\n",
       "      <td>...</td>\n",
       "      <td>...</td>\n",
       "      <td>...</td>\n",
       "      <td>...</td>\n",
       "    </tr>\n",
       "    <tr>\n",
       "      <th>1030</th>\n",
       "      <td>Transit</td>\n",
       "      <td>1</td>\n",
       "      <td>3.941507</td>\n",
       "      <td>NaN</td>\n",
       "      <td>172.00</td>\n",
       "      <td>2006</td>\n",
       "    </tr>\n",
       "    <tr>\n",
       "      <th>1031</th>\n",
       "      <td>Transit</td>\n",
       "      <td>1</td>\n",
       "      <td>2.615864</td>\n",
       "      <td>NaN</td>\n",
       "      <td>148.00</td>\n",
       "      <td>2007</td>\n",
       "    </tr>\n",
       "    <tr>\n",
       "      <th>1032</th>\n",
       "      <td>Transit</td>\n",
       "      <td>1</td>\n",
       "      <td>3.191524</td>\n",
       "      <td>NaN</td>\n",
       "      <td>174.00</td>\n",
       "      <td>2007</td>\n",
       "    </tr>\n",
       "    <tr>\n",
       "      <th>1033</th>\n",
       "      <td>Transit</td>\n",
       "      <td>1</td>\n",
       "      <td>4.125083</td>\n",
       "      <td>NaN</td>\n",
       "      <td>293.00</td>\n",
       "      <td>2008</td>\n",
       "    </tr>\n",
       "    <tr>\n",
       "      <th>1034</th>\n",
       "      <td>Transit</td>\n",
       "      <td>1</td>\n",
       "      <td>4.187757</td>\n",
       "      <td>NaN</td>\n",
       "      <td>260.00</td>\n",
       "      <td>2008</td>\n",
       "    </tr>\n",
       "  </tbody>\n",
       "</table>\n",
       "<p>1035 rows × 6 columns</p>\n",
       "</div>"
      ],
      "text/plain": [
       "               method  number  orbital_period   mass  distance  year\n",
       "0     Radial Velocity       1      269.300000   7.10     77.40  2006\n",
       "1     Radial Velocity       1      874.774000   2.21     56.95  2008\n",
       "2     Radial Velocity       1      763.000000   2.60     19.84  2011\n",
       "3     Radial Velocity       1      326.030000  19.40    110.62  2007\n",
       "4     Radial Velocity       1      516.220000  10.50    119.47  2009\n",
       "...               ...     ...             ...    ...       ...   ...\n",
       "1030          Transit       1        3.941507    NaN    172.00  2006\n",
       "1031          Transit       1        2.615864    NaN    148.00  2007\n",
       "1032          Transit       1        3.191524    NaN    174.00  2007\n",
       "1033          Transit       1        4.125083    NaN    293.00  2008\n",
       "1034          Transit       1        4.187757    NaN    260.00  2008\n",
       "\n",
       "[1035 rows x 6 columns]"
      ]
     },
     "execution_count": 80,
     "metadata": {},
     "output_type": "execute_result"
    }
   ],
   "source": [
    "planets"
   ]
  },
  {
   "cell_type": "code",
   "execution_count": 81,
   "metadata": {},
   "outputs": [
    {
     "data": {
      "text/plain": [
       "method\n",
       "Astrometry                         631.180000\n",
       "Eclipse Timing Variations         4343.500000\n",
       "Imaging                          27500.000000\n",
       "Microlensing                      3300.000000\n",
       "Orbital Brightness Modulation        0.342887\n",
       "Pulsar Timing                       66.541900\n",
       "Pulsation Timing Variations       1170.000000\n",
       "Radial Velocity                    360.200000\n",
       "Transit                              5.714932\n",
       "Transit Timing Variations           57.011000\n",
       "Name: orbital_period, dtype: float64"
      ]
     },
     "execution_count": 81,
     "metadata": {},
     "output_type": "execute_result"
    }
   ],
   "source": [
    "planets.groupby('method')['orbital_period'].median()"
   ]
  }
 ],
 "metadata": {
  "kernelspec": {
   "display_name": "Python 3",
   "language": "python",
   "name": "python3"
  },
  "language_info": {
   "codemirror_mode": {
    "name": "ipython",
    "version": 3
   },
   "file_extension": ".py",
   "mimetype": "text/x-python",
   "name": "python",
   "nbconvert_exporter": "python",
   "pygments_lexer": "ipython3",
   "version": "3.8.6"
  }
 },
 "nbformat": 4,
 "nbformat_minor": 4
}
